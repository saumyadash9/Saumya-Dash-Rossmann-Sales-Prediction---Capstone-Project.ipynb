{
  "cells": [
    {
      "cell_type": "markdown",
      "metadata": {
        "id": "view-in-github",
        "colab_type": "text"
      },
      "source": [
        "<a href=\"https://colab.research.google.com/github/saumyadash9/Saumya-Dash-Rossmann-Sales-Prediction---Capstone-Project.ipynb/blob/main/Saumya_Dash_Rossmann_Sales_Prediction_Capstone_Project.ipynb\" target=\"_parent\"><img src=\"https://colab.research.google.com/assets/colab-badge.svg\" alt=\"Open In Colab\"/></a>"
      ]
    },
    {
      "cell_type": "markdown",
      "metadata": {
        "id": "tOGC-qoyhJeX"
      },
      "source": [
        "# <b><u> Project Title : Sales Prediction : Predicting sales of a major store chain Rossmann</u></b>"
      ]
    },
    {
      "cell_type": "markdown",
      "metadata": {
        "id": "Y06xIdG26kRF"
      },
      "source": [
        "## <b> Problem Description </b>\n",
        "\n",
        "### Rossmann operates over 3,000 drug stores in 7 European countries. Currently, Rossmann store managers are tasked with predicting their daily sales for up to six weeks in advance. Store sales are influenced by many factors, including promotions, competition, school and state holidays, seasonality, and locality. With thousands of individual managers predicting sales based on their unique circumstances, the accuracy of results can be quite varied.\n",
        "\n",
        "### You are provided with historical sales data for 1,115 Rossmann stores. The task is to forecast the \"Sales\" column for the test set. Note that some stores in the dataset were temporarily closed for refurbishment."
      ]
    },
    {
      "cell_type": "markdown",
      "metadata": {
        "id": "WWeU1f9bwqQq"
      },
      "source": [
        "## <b> Data Description </b>\n",
        "\n",
        "### <b>Rossmann Stores Data.csv </b> - historical data including Sales\n",
        "### <b>store.csv </b> - supplemental information about the stores\n",
        "\n",
        "\n",
        "### <b><u>Data fields</u></b>\n",
        "### Most of the fields are self-explanatory. The following are descriptions for those that aren't.\n",
        "\n",
        "* #### Id - an Id that represents a (Store, Date) duple within the test set\n",
        "* #### Store - a unique Id for each store\n",
        "* #### Sales - the turnover for any given day (this is what you are predicting)\n",
        "* #### Customers - the number of customers on a given day\n",
        "* #### Open - an indicator for whether the store was open: 0 = closed, 1 = open\n",
        "* #### StateHoliday - indicates a state holiday. Normally all stores, with few exceptions, are closed on state holidays. Note that all schools are closed on public holidays and weekends. a = public holiday, b = Easter holiday, c = Christmas, 0 = None\n",
        "* #### SchoolHoliday - indicates if the (Store, Date) was affected by the closure of public schools\n",
        "* #### StoreType - differentiates between 4 different store models: a, b, c, d\n",
        "* #### Assortment - describes an assortment level: a = basic, b = extra, c = extended\n",
        "* #### CompetitionDistance - distance in meters to the nearest competitor store\n",
        "* #### CompetitionOpenSince[Month/Year] - gives the approximate year and month of the time the nearest competitor was opened\n",
        "* #### Promo - indicates whether a store is running a promo on that day\n",
        "* #### Promo2 - Promo2 is a continuing and consecutive promotion for some stores: 0 = store is not participating, 1 = store is participating\n",
        "* #### Promo2Since[Year/Week] - describes the year and calendar week when the store started participating in Promo2\n",
        "* #### PromoInterval - describes the consecutive intervals Promo2 is started, naming the months the promotion is started anew. E.g. \"Feb,May,Aug,Nov\" means each round starts in February, May, August, November of any given year for that store"
      ]
    },
    {
      "cell_type": "markdown",
      "source": [
        "# **Importing required libraries and data files**"
      ],
      "metadata": {
        "id": "OgGf6O8E77wr"
      }
    },
    {
      "cell_type": "code",
      "execution_count": 30,
      "metadata": {
        "id": "dByMsuzT8Tnw"
      },
      "outputs": [],
      "source": [
        "#import required libraries\n",
        "import numpy as np\n",
        "import pandas as pd\n",
        "import matplotlib.pyplot as plt\n",
        "import seaborn as sns\n",
        "from sklearn.preprocessing import FunctionTransformer\n",
        "from statsmodels.stats.outliers_influence import variance_inflation_factor\n",
        "import statsmodels.api as sm\n",
        "import sklearn\n",
        "from sklearn.model_selection import train_test_split\n",
        "from sklearn.linear_model import LinearRegression\n",
        "from sklearn.preprocessing import StandardScaler\n",
        "lin= LinearRegression()\n",
        "import warnings    \n",
        "warnings.filterwarnings('ignore')"
      ]
    },
    {
      "cell_type": "code",
      "execution_count": 31,
      "metadata": {
        "colab": {
          "base_uri": "https://localhost:8080/"
        },
        "id": "u11Hl-UIxYLt",
        "outputId": "807d1c9d-2a30-458f-f046-6930c80a6095"
      },
      "outputs": [
        {
          "output_type": "stream",
          "name": "stdout",
          "text": [
            "Drive already mounted at /content/drive; to attempt to forcibly remount, call drive.mount(\"/content/drive\", force_remount=True).\n"
          ]
        }
      ],
      "source": [
        "#Mounting google drive \n",
        "from google.colab import drive\n",
        "drive.mount('/content/drive')"
      ]
    },
    {
      "cell_type": "code",
      "execution_count": 32,
      "metadata": {
        "id": "Z-ViGO9IxvPm"
      },
      "outputs": [],
      "source": [
        "# Read csv file\n",
        "df_sales = pd.read_csv('/content/drive/MyDrive/Copy of Rossmann Stores Data.csv')\n",
        "df_stores = pd.read_csv('/content/drive/MyDrive/Copy of store.csv')"
      ]
    },
    {
      "cell_type": "markdown",
      "source": [
        "# **Data Exploration**"
      ],
      "metadata": {
        "id": "PfTXHQhX7xxz"
      }
    },
    {
      "cell_type": "code",
      "execution_count": 33,
      "metadata": {
        "colab": {
          "base_uri": "https://localhost:8080/",
          "height": 206
        },
        "id": "hSS6BiwYwy_7",
        "outputId": "cb87575c-dfb3-4b7b-c0ca-9a19e16db93e"
      },
      "outputs": [
        {
          "output_type": "execute_result",
          "data": {
            "text/plain": [
              "   Store  DayOfWeek        Date  Sales  Customers  Open  Promo StateHoliday  \\\n",
              "0      1          5  2015-07-31   5263        555     1      1            0   \n",
              "1      2          5  2015-07-31   6064        625     1      1            0   \n",
              "2      3          5  2015-07-31   8314        821     1      1            0   \n",
              "3      4          5  2015-07-31  13995       1498     1      1            0   \n",
              "4      5          5  2015-07-31   4822        559     1      1            0   \n",
              "\n",
              "   SchoolHoliday  \n",
              "0              1  \n",
              "1              1  \n",
              "2              1  \n",
              "3              1  \n",
              "4              1  "
            ],
            "text/html": [
              "\n",
              "  <div id=\"df-a6f6bf4f-1376-49bd-9a08-bc74a91f9bd4\">\n",
              "    <div class=\"colab-df-container\">\n",
              "      <div>\n",
              "<style scoped>\n",
              "    .dataframe tbody tr th:only-of-type {\n",
              "        vertical-align: middle;\n",
              "    }\n",
              "\n",
              "    .dataframe tbody tr th {\n",
              "        vertical-align: top;\n",
              "    }\n",
              "\n",
              "    .dataframe thead th {\n",
              "        text-align: right;\n",
              "    }\n",
              "</style>\n",
              "<table border=\"1\" class=\"dataframe\">\n",
              "  <thead>\n",
              "    <tr style=\"text-align: right;\">\n",
              "      <th></th>\n",
              "      <th>Store</th>\n",
              "      <th>DayOfWeek</th>\n",
              "      <th>Date</th>\n",
              "      <th>Sales</th>\n",
              "      <th>Customers</th>\n",
              "      <th>Open</th>\n",
              "      <th>Promo</th>\n",
              "      <th>StateHoliday</th>\n",
              "      <th>SchoolHoliday</th>\n",
              "    </tr>\n",
              "  </thead>\n",
              "  <tbody>\n",
              "    <tr>\n",
              "      <th>0</th>\n",
              "      <td>1</td>\n",
              "      <td>5</td>\n",
              "      <td>2015-07-31</td>\n",
              "      <td>5263</td>\n",
              "      <td>555</td>\n",
              "      <td>1</td>\n",
              "      <td>1</td>\n",
              "      <td>0</td>\n",
              "      <td>1</td>\n",
              "    </tr>\n",
              "    <tr>\n",
              "      <th>1</th>\n",
              "      <td>2</td>\n",
              "      <td>5</td>\n",
              "      <td>2015-07-31</td>\n",
              "      <td>6064</td>\n",
              "      <td>625</td>\n",
              "      <td>1</td>\n",
              "      <td>1</td>\n",
              "      <td>0</td>\n",
              "      <td>1</td>\n",
              "    </tr>\n",
              "    <tr>\n",
              "      <th>2</th>\n",
              "      <td>3</td>\n",
              "      <td>5</td>\n",
              "      <td>2015-07-31</td>\n",
              "      <td>8314</td>\n",
              "      <td>821</td>\n",
              "      <td>1</td>\n",
              "      <td>1</td>\n",
              "      <td>0</td>\n",
              "      <td>1</td>\n",
              "    </tr>\n",
              "    <tr>\n",
              "      <th>3</th>\n",
              "      <td>4</td>\n",
              "      <td>5</td>\n",
              "      <td>2015-07-31</td>\n",
              "      <td>13995</td>\n",
              "      <td>1498</td>\n",
              "      <td>1</td>\n",
              "      <td>1</td>\n",
              "      <td>0</td>\n",
              "      <td>1</td>\n",
              "    </tr>\n",
              "    <tr>\n",
              "      <th>4</th>\n",
              "      <td>5</td>\n",
              "      <td>5</td>\n",
              "      <td>2015-07-31</td>\n",
              "      <td>4822</td>\n",
              "      <td>559</td>\n",
              "      <td>1</td>\n",
              "      <td>1</td>\n",
              "      <td>0</td>\n",
              "      <td>1</td>\n",
              "    </tr>\n",
              "  </tbody>\n",
              "</table>\n",
              "</div>\n",
              "      <button class=\"colab-df-convert\" onclick=\"convertToInteractive('df-a6f6bf4f-1376-49bd-9a08-bc74a91f9bd4')\"\n",
              "              title=\"Convert this dataframe to an interactive table.\"\n",
              "              style=\"display:none;\">\n",
              "        \n",
              "  <svg xmlns=\"http://www.w3.org/2000/svg\" height=\"24px\"viewBox=\"0 0 24 24\"\n",
              "       width=\"24px\">\n",
              "    <path d=\"M0 0h24v24H0V0z\" fill=\"none\"/>\n",
              "    <path d=\"M18.56 5.44l.94 2.06.94-2.06 2.06-.94-2.06-.94-.94-2.06-.94 2.06-2.06.94zm-11 1L8.5 8.5l.94-2.06 2.06-.94-2.06-.94L8.5 2.5l-.94 2.06-2.06.94zm10 10l.94 2.06.94-2.06 2.06-.94-2.06-.94-.94-2.06-.94 2.06-2.06.94z\"/><path d=\"M17.41 7.96l-1.37-1.37c-.4-.4-.92-.59-1.43-.59-.52 0-1.04.2-1.43.59L10.3 9.45l-7.72 7.72c-.78.78-.78 2.05 0 2.83L4 21.41c.39.39.9.59 1.41.59.51 0 1.02-.2 1.41-.59l7.78-7.78 2.81-2.81c.8-.78.8-2.07 0-2.86zM5.41 20L4 18.59l7.72-7.72 1.47 1.35L5.41 20z\"/>\n",
              "  </svg>\n",
              "      </button>\n",
              "      \n",
              "  <style>\n",
              "    .colab-df-container {\n",
              "      display:flex;\n",
              "      flex-wrap:wrap;\n",
              "      gap: 12px;\n",
              "    }\n",
              "\n",
              "    .colab-df-convert {\n",
              "      background-color: #E8F0FE;\n",
              "      border: none;\n",
              "      border-radius: 50%;\n",
              "      cursor: pointer;\n",
              "      display: none;\n",
              "      fill: #1967D2;\n",
              "      height: 32px;\n",
              "      padding: 0 0 0 0;\n",
              "      width: 32px;\n",
              "    }\n",
              "\n",
              "    .colab-df-convert:hover {\n",
              "      background-color: #E2EBFA;\n",
              "      box-shadow: 0px 1px 2px rgba(60, 64, 67, 0.3), 0px 1px 3px 1px rgba(60, 64, 67, 0.15);\n",
              "      fill: #174EA6;\n",
              "    }\n",
              "\n",
              "    [theme=dark] .colab-df-convert {\n",
              "      background-color: #3B4455;\n",
              "      fill: #D2E3FC;\n",
              "    }\n",
              "\n",
              "    [theme=dark] .colab-df-convert:hover {\n",
              "      background-color: #434B5C;\n",
              "      box-shadow: 0px 1px 3px 1px rgba(0, 0, 0, 0.15);\n",
              "      filter: drop-shadow(0px 1px 2px rgba(0, 0, 0, 0.3));\n",
              "      fill: #FFFFFF;\n",
              "    }\n",
              "  </style>\n",
              "\n",
              "      <script>\n",
              "        const buttonEl =\n",
              "          document.querySelector('#df-a6f6bf4f-1376-49bd-9a08-bc74a91f9bd4 button.colab-df-convert');\n",
              "        buttonEl.style.display =\n",
              "          google.colab.kernel.accessAllowed ? 'block' : 'none';\n",
              "\n",
              "        async function convertToInteractive(key) {\n",
              "          const element = document.querySelector('#df-a6f6bf4f-1376-49bd-9a08-bc74a91f9bd4');\n",
              "          const dataTable =\n",
              "            await google.colab.kernel.invokeFunction('convertToInteractive',\n",
              "                                                     [key], {});\n",
              "          if (!dataTable) return;\n",
              "\n",
              "          const docLinkHtml = 'Like what you see? Visit the ' +\n",
              "            '<a target=\"_blank\" href=https://colab.research.google.com/notebooks/data_table.ipynb>data table notebook</a>'\n",
              "            + ' to learn more about interactive tables.';\n",
              "          element.innerHTML = '';\n",
              "          dataTable['output_type'] = 'display_data';\n",
              "          await google.colab.output.renderOutput(dataTable, element);\n",
              "          const docLink = document.createElement('div');\n",
              "          docLink.innerHTML = docLinkHtml;\n",
              "          element.appendChild(docLink);\n",
              "        }\n",
              "      </script>\n",
              "    </div>\n",
              "  </div>\n",
              "  "
            ]
          },
          "metadata": {},
          "execution_count": 33
        }
      ],
      "source": [
        "# checking top 5 rows of the sales dataset\n",
        "df_sales.head()"
      ]
    },
    {
      "cell_type": "code",
      "execution_count": 34,
      "metadata": {
        "colab": {
          "base_uri": "https://localhost:8080/",
          "height": 206
        },
        "id": "msWv6EgPw3JN",
        "outputId": "f4b594d0-a806-4aa7-ab5f-328da5dfdb78"
      },
      "outputs": [
        {
          "output_type": "execute_result",
          "data": {
            "text/plain": [
              "   Store StoreType Assortment  CompetitionDistance  CompetitionOpenSinceMonth  \\\n",
              "0      1         c          a               1270.0                        9.0   \n",
              "1      2         a          a                570.0                       11.0   \n",
              "2      3         a          a              14130.0                       12.0   \n",
              "3      4         c          c                620.0                        9.0   \n",
              "4      5         a          a              29910.0                        4.0   \n",
              "\n",
              "   CompetitionOpenSinceYear  Promo2  Promo2SinceWeek  Promo2SinceYear  \\\n",
              "0                    2008.0       0              NaN              NaN   \n",
              "1                    2007.0       1             13.0           2010.0   \n",
              "2                    2006.0       1             14.0           2011.0   \n",
              "3                    2009.0       0              NaN              NaN   \n",
              "4                    2015.0       0              NaN              NaN   \n",
              "\n",
              "     PromoInterval  \n",
              "0              NaN  \n",
              "1  Jan,Apr,Jul,Oct  \n",
              "2  Jan,Apr,Jul,Oct  \n",
              "3              NaN  \n",
              "4              NaN  "
            ],
            "text/html": [
              "\n",
              "  <div id=\"df-971a40f3-c216-4b59-ae4f-713076d9abb2\">\n",
              "    <div class=\"colab-df-container\">\n",
              "      <div>\n",
              "<style scoped>\n",
              "    .dataframe tbody tr th:only-of-type {\n",
              "        vertical-align: middle;\n",
              "    }\n",
              "\n",
              "    .dataframe tbody tr th {\n",
              "        vertical-align: top;\n",
              "    }\n",
              "\n",
              "    .dataframe thead th {\n",
              "        text-align: right;\n",
              "    }\n",
              "</style>\n",
              "<table border=\"1\" class=\"dataframe\">\n",
              "  <thead>\n",
              "    <tr style=\"text-align: right;\">\n",
              "      <th></th>\n",
              "      <th>Store</th>\n",
              "      <th>StoreType</th>\n",
              "      <th>Assortment</th>\n",
              "      <th>CompetitionDistance</th>\n",
              "      <th>CompetitionOpenSinceMonth</th>\n",
              "      <th>CompetitionOpenSinceYear</th>\n",
              "      <th>Promo2</th>\n",
              "      <th>Promo2SinceWeek</th>\n",
              "      <th>Promo2SinceYear</th>\n",
              "      <th>PromoInterval</th>\n",
              "    </tr>\n",
              "  </thead>\n",
              "  <tbody>\n",
              "    <tr>\n",
              "      <th>0</th>\n",
              "      <td>1</td>\n",
              "      <td>c</td>\n",
              "      <td>a</td>\n",
              "      <td>1270.0</td>\n",
              "      <td>9.0</td>\n",
              "      <td>2008.0</td>\n",
              "      <td>0</td>\n",
              "      <td>NaN</td>\n",
              "      <td>NaN</td>\n",
              "      <td>NaN</td>\n",
              "    </tr>\n",
              "    <tr>\n",
              "      <th>1</th>\n",
              "      <td>2</td>\n",
              "      <td>a</td>\n",
              "      <td>a</td>\n",
              "      <td>570.0</td>\n",
              "      <td>11.0</td>\n",
              "      <td>2007.0</td>\n",
              "      <td>1</td>\n",
              "      <td>13.0</td>\n",
              "      <td>2010.0</td>\n",
              "      <td>Jan,Apr,Jul,Oct</td>\n",
              "    </tr>\n",
              "    <tr>\n",
              "      <th>2</th>\n",
              "      <td>3</td>\n",
              "      <td>a</td>\n",
              "      <td>a</td>\n",
              "      <td>14130.0</td>\n",
              "      <td>12.0</td>\n",
              "      <td>2006.0</td>\n",
              "      <td>1</td>\n",
              "      <td>14.0</td>\n",
              "      <td>2011.0</td>\n",
              "      <td>Jan,Apr,Jul,Oct</td>\n",
              "    </tr>\n",
              "    <tr>\n",
              "      <th>3</th>\n",
              "      <td>4</td>\n",
              "      <td>c</td>\n",
              "      <td>c</td>\n",
              "      <td>620.0</td>\n",
              "      <td>9.0</td>\n",
              "      <td>2009.0</td>\n",
              "      <td>0</td>\n",
              "      <td>NaN</td>\n",
              "      <td>NaN</td>\n",
              "      <td>NaN</td>\n",
              "    </tr>\n",
              "    <tr>\n",
              "      <th>4</th>\n",
              "      <td>5</td>\n",
              "      <td>a</td>\n",
              "      <td>a</td>\n",
              "      <td>29910.0</td>\n",
              "      <td>4.0</td>\n",
              "      <td>2015.0</td>\n",
              "      <td>0</td>\n",
              "      <td>NaN</td>\n",
              "      <td>NaN</td>\n",
              "      <td>NaN</td>\n",
              "    </tr>\n",
              "  </tbody>\n",
              "</table>\n",
              "</div>\n",
              "      <button class=\"colab-df-convert\" onclick=\"convertToInteractive('df-971a40f3-c216-4b59-ae4f-713076d9abb2')\"\n",
              "              title=\"Convert this dataframe to an interactive table.\"\n",
              "              style=\"display:none;\">\n",
              "        \n",
              "  <svg xmlns=\"http://www.w3.org/2000/svg\" height=\"24px\"viewBox=\"0 0 24 24\"\n",
              "       width=\"24px\">\n",
              "    <path d=\"M0 0h24v24H0V0z\" fill=\"none\"/>\n",
              "    <path d=\"M18.56 5.44l.94 2.06.94-2.06 2.06-.94-2.06-.94-.94-2.06-.94 2.06-2.06.94zm-11 1L8.5 8.5l.94-2.06 2.06-.94-2.06-.94L8.5 2.5l-.94 2.06-2.06.94zm10 10l.94 2.06.94-2.06 2.06-.94-2.06-.94-.94-2.06-.94 2.06-2.06.94z\"/><path d=\"M17.41 7.96l-1.37-1.37c-.4-.4-.92-.59-1.43-.59-.52 0-1.04.2-1.43.59L10.3 9.45l-7.72 7.72c-.78.78-.78 2.05 0 2.83L4 21.41c.39.39.9.59 1.41.59.51 0 1.02-.2 1.41-.59l7.78-7.78 2.81-2.81c.8-.78.8-2.07 0-2.86zM5.41 20L4 18.59l7.72-7.72 1.47 1.35L5.41 20z\"/>\n",
              "  </svg>\n",
              "      </button>\n",
              "      \n",
              "  <style>\n",
              "    .colab-df-container {\n",
              "      display:flex;\n",
              "      flex-wrap:wrap;\n",
              "      gap: 12px;\n",
              "    }\n",
              "\n",
              "    .colab-df-convert {\n",
              "      background-color: #E8F0FE;\n",
              "      border: none;\n",
              "      border-radius: 50%;\n",
              "      cursor: pointer;\n",
              "      display: none;\n",
              "      fill: #1967D2;\n",
              "      height: 32px;\n",
              "      padding: 0 0 0 0;\n",
              "      width: 32px;\n",
              "    }\n",
              "\n",
              "    .colab-df-convert:hover {\n",
              "      background-color: #E2EBFA;\n",
              "      box-shadow: 0px 1px 2px rgba(60, 64, 67, 0.3), 0px 1px 3px 1px rgba(60, 64, 67, 0.15);\n",
              "      fill: #174EA6;\n",
              "    }\n",
              "\n",
              "    [theme=dark] .colab-df-convert {\n",
              "      background-color: #3B4455;\n",
              "      fill: #D2E3FC;\n",
              "    }\n",
              "\n",
              "    [theme=dark] .colab-df-convert:hover {\n",
              "      background-color: #434B5C;\n",
              "      box-shadow: 0px 1px 3px 1px rgba(0, 0, 0, 0.15);\n",
              "      filter: drop-shadow(0px 1px 2px rgba(0, 0, 0, 0.3));\n",
              "      fill: #FFFFFF;\n",
              "    }\n",
              "  </style>\n",
              "\n",
              "      <script>\n",
              "        const buttonEl =\n",
              "          document.querySelector('#df-971a40f3-c216-4b59-ae4f-713076d9abb2 button.colab-df-convert');\n",
              "        buttonEl.style.display =\n",
              "          google.colab.kernel.accessAllowed ? 'block' : 'none';\n",
              "\n",
              "        async function convertToInteractive(key) {\n",
              "          const element = document.querySelector('#df-971a40f3-c216-4b59-ae4f-713076d9abb2');\n",
              "          const dataTable =\n",
              "            await google.colab.kernel.invokeFunction('convertToInteractive',\n",
              "                                                     [key], {});\n",
              "          if (!dataTable) return;\n",
              "\n",
              "          const docLinkHtml = 'Like what you see? Visit the ' +\n",
              "            '<a target=\"_blank\" href=https://colab.research.google.com/notebooks/data_table.ipynb>data table notebook</a>'\n",
              "            + ' to learn more about interactive tables.';\n",
              "          element.innerHTML = '';\n",
              "          dataTable['output_type'] = 'display_data';\n",
              "          await google.colab.output.renderOutput(dataTable, element);\n",
              "          const docLink = document.createElement('div');\n",
              "          docLink.innerHTML = docLinkHtml;\n",
              "          element.appendChild(docLink);\n",
              "        }\n",
              "      </script>\n",
              "    </div>\n",
              "  </div>\n",
              "  "
            ]
          },
          "metadata": {},
          "execution_count": 34
        }
      ],
      "source": [
        "# checking top 5 rows of the stores dataset\n",
        "df_stores.head()"
      ]
    },
    {
      "cell_type": "code",
      "execution_count": 35,
      "metadata": {
        "colab": {
          "base_uri": "https://localhost:8080/"
        },
        "id": "WE0TrqIRwy6m",
        "outputId": "d5d572ad-d5a7-4fbb-faa6-4c7fa26926c7"
      },
      "outputs": [
        {
          "output_type": "execute_result",
          "data": {
            "text/plain": [
              "(1017209, 9)"
            ]
          },
          "metadata": {},
          "execution_count": 35
        }
      ],
      "source": [
        "# checking shape of sales dataset\n",
        "df_sales.shape"
      ]
    },
    {
      "cell_type": "code",
      "execution_count": 36,
      "metadata": {
        "colab": {
          "base_uri": "https://localhost:8080/"
        },
        "id": "CZ1SZD69wy3A",
        "outputId": "6298660d-2de7-4c94-a38b-aed61ab461ea"
      },
      "outputs": [
        {
          "output_type": "execute_result",
          "data": {
            "text/plain": [
              "(1115, 10)"
            ]
          },
          "metadata": {},
          "execution_count": 36
        }
      ],
      "source": [
        "# checking shape of stores dataset\n",
        "df_stores.shape"
      ]
    },
    {
      "cell_type": "code",
      "source": [
        "#We can see that the number of rows in both dataset differs significantly. \n",
        "#We only have data for 1115 stores in the stores dataset, which is only 0.1%, of the total number of sales data given in the sales dataset\n",
        "\n",
        "1115/1017209*100"
      ],
      "metadata": {
        "id": "MHxQgWjA62_y",
        "colab": {
          "base_uri": "https://localhost:8080/"
        },
        "outputId": "4913de82-d164-4a1b-f5c4-c5cca6359654"
      },
      "execution_count": 37,
      "outputs": [
        {
          "output_type": "execute_result",
          "data": {
            "text/plain": [
              "0.10961365855001283"
            ]
          },
          "metadata": {},
          "execution_count": 37
        }
      ]
    },
    {
      "cell_type": "code",
      "execution_count": 38,
      "metadata": {
        "colab": {
          "base_uri": "https://localhost:8080/"
        },
        "id": "2qVsYnRxwywR",
        "outputId": "cdbd0757-a914-4830-a0b3-e00c58119e54"
      },
      "outputs": [
        {
          "output_type": "stream",
          "name": "stdout",
          "text": [
            "<class 'pandas.core.frame.DataFrame'>\n",
            "RangeIndex: 1017209 entries, 0 to 1017208\n",
            "Data columns (total 9 columns):\n",
            " #   Column         Non-Null Count    Dtype \n",
            "---  ------         --------------    ----- \n",
            " 0   Store          1017209 non-null  int64 \n",
            " 1   DayOfWeek      1017209 non-null  int64 \n",
            " 2   Date           1017209 non-null  object\n",
            " 3   Sales          1017209 non-null  int64 \n",
            " 4   Customers      1017209 non-null  int64 \n",
            " 5   Open           1017209 non-null  int64 \n",
            " 6   Promo          1017209 non-null  int64 \n",
            " 7   StateHoliday   1017209 non-null  object\n",
            " 8   SchoolHoliday  1017209 non-null  int64 \n",
            "dtypes: int64(7), object(2)\n",
            "memory usage: 69.8+ MB\n"
          ]
        }
      ],
      "source": [
        "#checking for null values and the data types of all the columns in sales dataset\n",
        "df_sales.info()"
      ]
    },
    {
      "cell_type": "markdown",
      "source": [
        "*   We can see there are no Null Values in the sales dataset\n",
        "\n",
        "\n"
      ],
      "metadata": {
        "id": "9vnTxe9eI1LC"
      }
    },
    {
      "cell_type": "code",
      "execution_count": 39,
      "metadata": {
        "colab": {
          "base_uri": "https://localhost:8080/"
        },
        "id": "gjwzBHpfxMRZ",
        "outputId": "73fdd391-a19f-4c65-fabe-db132a7fcbb4"
      },
      "outputs": [
        {
          "output_type": "stream",
          "name": "stdout",
          "text": [
            "<class 'pandas.core.frame.DataFrame'>\n",
            "RangeIndex: 1115 entries, 0 to 1114\n",
            "Data columns (total 10 columns):\n",
            " #   Column                     Non-Null Count  Dtype  \n",
            "---  ------                     --------------  -----  \n",
            " 0   Store                      1115 non-null   int64  \n",
            " 1   StoreType                  1115 non-null   object \n",
            " 2   Assortment                 1115 non-null   object \n",
            " 3   CompetitionDistance        1112 non-null   float64\n",
            " 4   CompetitionOpenSinceMonth  761 non-null    float64\n",
            " 5   CompetitionOpenSinceYear   761 non-null    float64\n",
            " 6   Promo2                     1115 non-null   int64  \n",
            " 7   Promo2SinceWeek            571 non-null    float64\n",
            " 8   Promo2SinceYear            571 non-null    float64\n",
            " 9   PromoInterval              571 non-null    object \n",
            "dtypes: float64(5), int64(2), object(3)\n",
            "memory usage: 87.2+ KB\n"
          ]
        }
      ],
      "source": [
        "#checking for null values and the data types of all the columns in stores dataset.\n",
        "df_stores.info()"
      ]
    },
    {
      "cell_type": "code",
      "execution_count": 40,
      "metadata": {
        "colab": {
          "base_uri": "https://localhost:8080/"
        },
        "id": "PPMCSlB1zWkv",
        "outputId": "ac5365dc-0827-4879-cdc2-50a3b24beff7"
      },
      "outputs": [
        {
          "output_type": "execute_result",
          "data": {
            "text/plain": [
              "Store                          0\n",
              "StoreType                      0\n",
              "Assortment                     0\n",
              "CompetitionDistance            3\n",
              "CompetitionOpenSinceMonth    354\n",
              "CompetitionOpenSinceYear     354\n",
              "Promo2                         0\n",
              "Promo2SinceWeek              544\n",
              "Promo2SinceYear              544\n",
              "PromoInterval                544\n",
              "dtype: int64"
            ]
          },
          "metadata": {},
          "execution_count": 40
        }
      ],
      "source": [
        "#counting the number of null values in each column in stores dataset\n",
        "df_stores.isnull().sum()"
      ]
    },
    {
      "cell_type": "markdown",
      "source": [
        "**Observation**\n",
        "\n",
        "There are four columns which contains null values those are following:\n",
        "\n",
        "\n",
        "*  **CompetitionDistance-** This is the distance from the nearest competitor store.We will check the distribution of the data according to which we will determine which among mean, median or mode will be suitable to replace the null value with.\n",
        "*   **CompetitionOpenSinceMonth-** gives the around which the nearest competitor was opened, mode of the column would tell us the most occuring month\n",
        "\n",
        "* **CompetitionOpenSinceYear- **bold text** **gives the year around which the nearest competitor was opened, mode of the column would tell us the most occuring month\n",
        "\n",
        "* **Promo2SinceWeek, Promo2SinceYear and PromoInterval** -are NaN wherever Promo2 is 0 or False as can be seen in the first look of the dataset. They can be replaced with 0.\n"
      ],
      "metadata": {
        "id": "droMZlhbKX9x"
      }
    },
    {
      "cell_type": "markdown",
      "source": [
        "# **Data Cleaning**"
      ],
      "metadata": {
        "id": "5eVlGG0oElV_"
      }
    },
    {
      "cell_type": "markdown",
      "source": [
        " **Treating the Null Values**"
      ],
      "metadata": {
        "id": "4AvbjRPI8K_g"
      }
    },
    {
      "cell_type": "code",
      "execution_count": 41,
      "metadata": {
        "colab": {
          "base_uri": "https://localhost:8080/"
        },
        "id": "qHxnch-UzWhp",
        "outputId": "81d13a17-a06a-45e0-e90d-7d30aa293806"
      },
      "outputs": [
        {
          "output_type": "execute_result",
          "data": {
            "text/plain": [
              "array([2008., 2007., 2006., 2009., 2015., 2013., 2014., 2000., 2011.,\n",
              "         nan, 2010., 2005., 1999., 2003., 2012., 2004., 2002., 1961.,\n",
              "       1995., 2001., 1990., 1994., 1900., 1998.])"
            ]
          },
          "metadata": {},
          "execution_count": 41
        }
      ],
      "source": [
        "#checking for unique values in CompetitionOpenSinceYear\n",
        "df_stores.CompetitionOpenSinceYear.unique()"
      ]
    },
    {
      "cell_type": "code",
      "execution_count": 42,
      "metadata": {
        "colab": {
          "base_uri": "https://localhost:8080/"
        },
        "id": "gM8E_GOH3BFw",
        "outputId": "d6a81897-89ab-4bf4-c0ed-da71f62cfd2c"
      },
      "outputs": [
        {
          "output_type": "execute_result",
          "data": {
            "text/plain": [
              "array([ 9., 11., 12.,  4., 10.,  8., nan,  3.,  6.,  5.,  1.,  2.,  7.])"
            ]
          },
          "metadata": {},
          "execution_count": 42
        }
      ],
      "source": [
        "#checking for unique values in CompetitionOpenSinceMonth\n",
        "df_stores.CompetitionOpenSinceMonth.unique()"
      ]
    },
    {
      "cell_type": "code",
      "execution_count": 43,
      "metadata": {
        "colab": {
          "base_uri": "https://localhost:8080/"
        },
        "id": "c7azzOiN3IhS",
        "outputId": "e8977fd5-2270-46e4-e71e-86e19b744bfe"
      },
      "outputs": [
        {
          "output_type": "execute_result",
          "data": {
            "text/plain": [
              "9.0     125\n",
              "4.0      94\n",
              "11.0     92\n",
              "3.0      70\n",
              "7.0      67\n",
              "12.0     64\n",
              "10.0     61\n",
              "6.0      50\n",
              "5.0      44\n",
              "2.0      41\n",
              "8.0      39\n",
              "1.0      14\n",
              "Name: CompetitionOpenSinceMonth, dtype: int64"
            ]
          },
          "metadata": {},
          "execution_count": 43
        }
      ],
      "source": [
        "#counting for competition stores being open for each month \n",
        "df_stores.CompetitionOpenSinceMonth.value_counts() "
      ]
    },
    {
      "cell_type": "code",
      "execution_count": 44,
      "metadata": {
        "colab": {
          "base_uri": "https://localhost:8080/"
        },
        "id": "DNMhrRGG1gki",
        "outputId": "3d8c9ea7-068a-4546-ad33-d34b0c64718f"
      },
      "outputs": [
        {
          "output_type": "execute_result",
          "data": {
            "text/plain": [
              "2013.0    83\n",
              "2012.0    82\n",
              "2014.0    70\n",
              "2005.0    62\n",
              "2010.0    55\n",
              "2008.0    54\n",
              "2009.0    54\n",
              "2011.0    54\n",
              "2007.0    48\n",
              "2006.0    47\n",
              "2015.0    38\n",
              "2002.0    27\n",
              "2004.0    22\n",
              "2003.0    19\n",
              "2001.0    16\n",
              "2000.0    10\n",
              "1999.0     8\n",
              "1990.0     5\n",
              "1995.0     2\n",
              "1994.0     2\n",
              "1961.0     1\n",
              "1900.0     1\n",
              "1998.0     1\n",
              "Name: CompetitionOpenSinceYear, dtype: int64"
            ]
          },
          "metadata": {},
          "execution_count": 44
        }
      ],
      "source": [
        "#counting for competition stores being open for each year \n",
        "df_stores.CompetitionOpenSinceYear.value_counts() "
      ]
    },
    {
      "cell_type": "code",
      "execution_count": 45,
      "metadata": {
        "colab": {
          "base_uri": "https://localhost:8080/"
        },
        "id": "Rf7ksGIn12eM",
        "outputId": "9a1285e8-cf48-4c71-95fe-a2246ef617ef"
      },
      "outputs": [
        {
          "output_type": "execute_result",
          "data": {
            "text/plain": [
              "31.748878923766817"
            ]
          },
          "metadata": {},
          "execution_count": 45
        }
      ],
      "source": [
        "#checking the percentage of missing values in both Competition Open since Month and Year\n",
        "354/1115*100"
      ]
    },
    {
      "cell_type": "code",
      "execution_count": 46,
      "metadata": {
        "id": "sgWYG5qp15Si"
      },
      "outputs": [],
      "source": [
        "#filling null values in Promo2 Since week, year and Promo Interval with 0\n",
        "df_stores['Promo2SinceWeek'] = df_stores['Promo2SinceWeek'].fillna(0)"
      ]
    },
    {
      "cell_type": "code",
      "execution_count": 47,
      "metadata": {
        "colab": {
          "base_uri": "https://localhost:8080/"
        },
        "id": "r6WHtzjA5rbf",
        "outputId": "52df9abc-43da-4900-db93-c81cf5703143"
      },
      "outputs": [
        {
          "output_type": "execute_result",
          "data": {
            "text/plain": [
              "0"
            ]
          },
          "metadata": {},
          "execution_count": 47
        }
      ],
      "source": [
        "df_stores.Promo2SinceWeek.isnull().sum()"
      ]
    },
    {
      "cell_type": "code",
      "execution_count": 48,
      "metadata": {
        "id": "5xj5fAZURLGR"
      },
      "outputs": [],
      "source": [
        "df_stores['Promo2SinceYear'] = df_stores['Promo2SinceYear'].fillna(0)"
      ]
    },
    {
      "cell_type": "code",
      "execution_count": 49,
      "metadata": {
        "id": "_S4ETYLERq6l"
      },
      "outputs": [],
      "source": [
        "df_stores['PromoInterval'] = df_stores['PromoInterval'].fillna(0)"
      ]
    },
    {
      "cell_type": "code",
      "execution_count": 50,
      "metadata": {
        "colab": {
          "base_uri": "https://localhost:8080/"
        },
        "id": "cWb9lHwGR5tY",
        "outputId": "966dd7c8-f9cc-4a61-f629-4b2d9006f00b"
      },
      "outputs": [
        {
          "output_type": "execute_result",
          "data": {
            "text/plain": [
              "Store                          0\n",
              "StoreType                      0\n",
              "Assortment                     0\n",
              "CompetitionDistance            3\n",
              "CompetitionOpenSinceMonth    354\n",
              "CompetitionOpenSinceYear     354\n",
              "Promo2                         0\n",
              "Promo2SinceWeek                0\n",
              "Promo2SinceYear                0\n",
              "PromoInterval                  0\n",
              "dtype: int64"
            ]
          },
          "metadata": {},
          "execution_count": 50
        }
      ],
      "source": [
        "df_stores.isnull().sum()"
      ]
    },
    {
      "cell_type": "code",
      "execution_count": 51,
      "metadata": {
        "id": "-W47z9eXVeft"
      },
      "outputs": [],
      "source": [
        "df_stores['PromoInterval'] = df_stores['PromoInterval'].fillna(0)"
      ]
    },
    {
      "cell_type": "code",
      "execution_count": 52,
      "metadata": {
        "id": "jQMPHUDMVIxt"
      },
      "outputs": [],
      "source": [
        "#filling the null values with median for CompetitionDistance column and mode for CompetitionOpenSince Year and Month\n",
        "df_stores[\"CompetitionDistance\"].fillna(df_stores[\"CompetitionDistance\"].median(),inplace=True)\n",
        "df_stores[\"CompetitionOpenSinceMonth\"].fillna(df_stores[\"CompetitionOpenSinceMonth\"].mode()[0],inplace=True)\n",
        "df_stores[\"CompetitionOpenSinceYear\"].fillna(df_stores[\"CompetitionOpenSinceYear\"].mode()[0],inplace=True)"
      ]
    },
    {
      "cell_type": "code",
      "execution_count": 53,
      "metadata": {
        "id": "26iXrDsKVZOJ"
      },
      "outputs": [],
      "source": [
        "df_stores = df_stores.dropna(how='all', axis=1)"
      ]
    },
    {
      "cell_type": "code",
      "execution_count": 54,
      "metadata": {
        "id": "vweXxf8iZZ1f"
      },
      "outputs": [],
      "source": [
        "# we can df_stores.isnull().sum()"
      ]
    },
    {
      "cell_type": "code",
      "execution_count": 55,
      "metadata": {
        "id": "3_RTwXMWUOHR"
      },
      "outputs": [],
      "source": [
        "#Let's merge the two dataset to proceed with our prediction process \n",
        "new_dataset = pd.merge(df_sales,df_stores, how = 'left', on = 'Store')"
      ]
    },
    {
      "cell_type": "code",
      "execution_count": 56,
      "metadata": {
        "colab": {
          "base_uri": "https://localhost:8080/"
        },
        "id": "_MYplOJceC_N",
        "outputId": "bcf2cf08-84c8-44f6-eaa3-42a0c005a192"
      },
      "outputs": [
        {
          "output_type": "execute_result",
          "data": {
            "text/plain": [
              "Store                        0\n",
              "DayOfWeek                    0\n",
              "Date                         0\n",
              "Sales                        0\n",
              "Customers                    0\n",
              "Open                         0\n",
              "Promo                        0\n",
              "StateHoliday                 0\n",
              "SchoolHoliday                0\n",
              "StoreType                    0\n",
              "Assortment                   0\n",
              "CompetitionDistance          0\n",
              "CompetitionOpenSinceMonth    0\n",
              "CompetitionOpenSinceYear     0\n",
              "Promo2                       0\n",
              "Promo2SinceWeek              0\n",
              "Promo2SinceYear              0\n",
              "PromoInterval                0\n",
              "dtype: int64"
            ]
          },
          "metadata": {},
          "execution_count": 56
        }
      ],
      "source": [
        "#checking for nullvalues in the new dataset \n",
        "new_dataset.isnull().sum()"
      ]
    },
    {
      "cell_type": "code",
      "execution_count": 57,
      "metadata": {
        "colab": {
          "base_uri": "https://localhost:8080/"
        },
        "id": "7YXCGUNAew_U",
        "outputId": "e366ab7f-16a2-420d-b501-d6db3badd0af"
      },
      "outputs": [
        {
          "output_type": "stream",
          "name": "stdout",
          "text": [
            "<class 'pandas.core.frame.DataFrame'>\n",
            "Int64Index: 1017209 entries, 0 to 1017208\n",
            "Data columns (total 18 columns):\n",
            " #   Column                     Non-Null Count    Dtype  \n",
            "---  ------                     --------------    -----  \n",
            " 0   Store                      1017209 non-null  int64  \n",
            " 1   DayOfWeek                  1017209 non-null  int64  \n",
            " 2   Date                       1017209 non-null  object \n",
            " 3   Sales                      1017209 non-null  int64  \n",
            " 4   Customers                  1017209 non-null  int64  \n",
            " 5   Open                       1017209 non-null  int64  \n",
            " 6   Promo                      1017209 non-null  int64  \n",
            " 7   StateHoliday               1017209 non-null  object \n",
            " 8   SchoolHoliday              1017209 non-null  int64  \n",
            " 9   StoreType                  1017209 non-null  object \n",
            " 10  Assortment                 1017209 non-null  object \n",
            " 11  CompetitionDistance        1017209 non-null  float64\n",
            " 12  CompetitionOpenSinceMonth  1017209 non-null  float64\n",
            " 13  CompetitionOpenSinceYear   1017209 non-null  float64\n",
            " 14  Promo2                     1017209 non-null  int64  \n",
            " 15  Promo2SinceWeek            1017209 non-null  float64\n",
            " 16  Promo2SinceYear            1017209 non-null  float64\n",
            " 17  PromoInterval              1017209 non-null  object \n",
            "dtypes: float64(5), int64(8), object(5)\n",
            "memory usage: 147.5+ MB\n"
          ]
        }
      ],
      "source": [
        "#checking additional information such as null values and data types of the columns in the new dataset\n",
        "new_dataset.info()"
      ]
    },
    {
      "cell_type": "code",
      "execution_count": 58,
      "metadata": {
        "colab": {
          "base_uri": "https://localhost:8080/",
          "height": 364
        },
        "id": "rmlqHEzKeOtG",
        "outputId": "d67ec5fd-ed40-4f70-8b4f-a387625303d9"
      },
      "outputs": [
        {
          "output_type": "execute_result",
          "data": {
            "text/plain": [
              "              Store     DayOfWeek         Sales     Customers          Open  \\\n",
              "count  1.017209e+06  1.017209e+06  1.017209e+06  1.017209e+06  1.017209e+06   \n",
              "mean   5.584297e+02  3.998341e+00  5.773819e+03  6.331459e+02  8.301067e-01   \n",
              "std    3.219087e+02  1.997391e+00  3.849926e+03  4.644117e+02  3.755392e-01   \n",
              "min    1.000000e+00  1.000000e+00  0.000000e+00  0.000000e+00  0.000000e+00   \n",
              "25%    2.800000e+02  2.000000e+00  3.727000e+03  4.050000e+02  1.000000e+00   \n",
              "50%    5.580000e+02  4.000000e+00  5.744000e+03  6.090000e+02  1.000000e+00   \n",
              "75%    8.380000e+02  6.000000e+00  7.856000e+03  8.370000e+02  1.000000e+00   \n",
              "max    1.115000e+03  7.000000e+00  4.155100e+04  7.388000e+03  1.000000e+00   \n",
              "\n",
              "              Promo  SchoolHoliday  CompetitionDistance  \\\n",
              "count  1.017209e+06   1.017209e+06         1.017209e+06   \n",
              "mean   3.815145e-01   1.786467e-01         5.422021e+03   \n",
              "std    4.857586e-01   3.830564e-01         7.706918e+03   \n",
              "min    0.000000e+00   0.000000e+00         2.000000e+01   \n",
              "25%    0.000000e+00   0.000000e+00         7.100000e+02   \n",
              "50%    0.000000e+00   0.000000e+00         2.325000e+03   \n",
              "75%    1.000000e+00   0.000000e+00         6.880000e+03   \n",
              "max    1.000000e+00   1.000000e+00         7.586000e+04   \n",
              "\n",
              "       CompetitionOpenSinceMonth  CompetitionOpenSinceYear        Promo2  \\\n",
              "count               1.017209e+06              1.017209e+06  1.017209e+06   \n",
              "mean                7.787777e+00              2.010060e+03  5.005638e-01   \n",
              "std                 2.778755e+00              5.340757e+00  4.999999e-01   \n",
              "min                 1.000000e+00              1.900000e+03  0.000000e+00   \n",
              "25%                 6.000000e+00              2.008000e+03  0.000000e+00   \n",
              "50%                 9.000000e+00              2.012000e+03  1.000000e+00   \n",
              "75%                 9.000000e+00              2.013000e+03  1.000000e+00   \n",
              "max                 1.200000e+01              2.015000e+03  1.000000e+00   \n",
              "\n",
              "       Promo2SinceWeek  Promo2SinceYear  \n",
              "count     1.017209e+06     1.017209e+06  \n",
              "mean      1.164767e+01     1.007011e+03  \n",
              "std       1.532393e+01     1.005877e+03  \n",
              "min       0.000000e+00     0.000000e+00  \n",
              "25%       0.000000e+00     0.000000e+00  \n",
              "50%       1.000000e+00     2.009000e+03  \n",
              "75%       2.200000e+01     2.012000e+03  \n",
              "max       5.000000e+01     2.015000e+03  "
            ],
            "text/html": [
              "\n",
              "  <div id=\"df-d383d89f-bd38-4518-a6de-89fbd95a0278\">\n",
              "    <div class=\"colab-df-container\">\n",
              "      <div>\n",
              "<style scoped>\n",
              "    .dataframe tbody tr th:only-of-type {\n",
              "        vertical-align: middle;\n",
              "    }\n",
              "\n",
              "    .dataframe tbody tr th {\n",
              "        vertical-align: top;\n",
              "    }\n",
              "\n",
              "    .dataframe thead th {\n",
              "        text-align: right;\n",
              "    }\n",
              "</style>\n",
              "<table border=\"1\" class=\"dataframe\">\n",
              "  <thead>\n",
              "    <tr style=\"text-align: right;\">\n",
              "      <th></th>\n",
              "      <th>Store</th>\n",
              "      <th>DayOfWeek</th>\n",
              "      <th>Sales</th>\n",
              "      <th>Customers</th>\n",
              "      <th>Open</th>\n",
              "      <th>Promo</th>\n",
              "      <th>SchoolHoliday</th>\n",
              "      <th>CompetitionDistance</th>\n",
              "      <th>CompetitionOpenSinceMonth</th>\n",
              "      <th>CompetitionOpenSinceYear</th>\n",
              "      <th>Promo2</th>\n",
              "      <th>Promo2SinceWeek</th>\n",
              "      <th>Promo2SinceYear</th>\n",
              "    </tr>\n",
              "  </thead>\n",
              "  <tbody>\n",
              "    <tr>\n",
              "      <th>count</th>\n",
              "      <td>1.017209e+06</td>\n",
              "      <td>1.017209e+06</td>\n",
              "      <td>1.017209e+06</td>\n",
              "      <td>1.017209e+06</td>\n",
              "      <td>1.017209e+06</td>\n",
              "      <td>1.017209e+06</td>\n",
              "      <td>1.017209e+06</td>\n",
              "      <td>1.017209e+06</td>\n",
              "      <td>1.017209e+06</td>\n",
              "      <td>1.017209e+06</td>\n",
              "      <td>1.017209e+06</td>\n",
              "      <td>1.017209e+06</td>\n",
              "      <td>1.017209e+06</td>\n",
              "    </tr>\n",
              "    <tr>\n",
              "      <th>mean</th>\n",
              "      <td>5.584297e+02</td>\n",
              "      <td>3.998341e+00</td>\n",
              "      <td>5.773819e+03</td>\n",
              "      <td>6.331459e+02</td>\n",
              "      <td>8.301067e-01</td>\n",
              "      <td>3.815145e-01</td>\n",
              "      <td>1.786467e-01</td>\n",
              "      <td>5.422021e+03</td>\n",
              "      <td>7.787777e+00</td>\n",
              "      <td>2.010060e+03</td>\n",
              "      <td>5.005638e-01</td>\n",
              "      <td>1.164767e+01</td>\n",
              "      <td>1.007011e+03</td>\n",
              "    </tr>\n",
              "    <tr>\n",
              "      <th>std</th>\n",
              "      <td>3.219087e+02</td>\n",
              "      <td>1.997391e+00</td>\n",
              "      <td>3.849926e+03</td>\n",
              "      <td>4.644117e+02</td>\n",
              "      <td>3.755392e-01</td>\n",
              "      <td>4.857586e-01</td>\n",
              "      <td>3.830564e-01</td>\n",
              "      <td>7.706918e+03</td>\n",
              "      <td>2.778755e+00</td>\n",
              "      <td>5.340757e+00</td>\n",
              "      <td>4.999999e-01</td>\n",
              "      <td>1.532393e+01</td>\n",
              "      <td>1.005877e+03</td>\n",
              "    </tr>\n",
              "    <tr>\n",
              "      <th>min</th>\n",
              "      <td>1.000000e+00</td>\n",
              "      <td>1.000000e+00</td>\n",
              "      <td>0.000000e+00</td>\n",
              "      <td>0.000000e+00</td>\n",
              "      <td>0.000000e+00</td>\n",
              "      <td>0.000000e+00</td>\n",
              "      <td>0.000000e+00</td>\n",
              "      <td>2.000000e+01</td>\n",
              "      <td>1.000000e+00</td>\n",
              "      <td>1.900000e+03</td>\n",
              "      <td>0.000000e+00</td>\n",
              "      <td>0.000000e+00</td>\n",
              "      <td>0.000000e+00</td>\n",
              "    </tr>\n",
              "    <tr>\n",
              "      <th>25%</th>\n",
              "      <td>2.800000e+02</td>\n",
              "      <td>2.000000e+00</td>\n",
              "      <td>3.727000e+03</td>\n",
              "      <td>4.050000e+02</td>\n",
              "      <td>1.000000e+00</td>\n",
              "      <td>0.000000e+00</td>\n",
              "      <td>0.000000e+00</td>\n",
              "      <td>7.100000e+02</td>\n",
              "      <td>6.000000e+00</td>\n",
              "      <td>2.008000e+03</td>\n",
              "      <td>0.000000e+00</td>\n",
              "      <td>0.000000e+00</td>\n",
              "      <td>0.000000e+00</td>\n",
              "    </tr>\n",
              "    <tr>\n",
              "      <th>50%</th>\n",
              "      <td>5.580000e+02</td>\n",
              "      <td>4.000000e+00</td>\n",
              "      <td>5.744000e+03</td>\n",
              "      <td>6.090000e+02</td>\n",
              "      <td>1.000000e+00</td>\n",
              "      <td>0.000000e+00</td>\n",
              "      <td>0.000000e+00</td>\n",
              "      <td>2.325000e+03</td>\n",
              "      <td>9.000000e+00</td>\n",
              "      <td>2.012000e+03</td>\n",
              "      <td>1.000000e+00</td>\n",
              "      <td>1.000000e+00</td>\n",
              "      <td>2.009000e+03</td>\n",
              "    </tr>\n",
              "    <tr>\n",
              "      <th>75%</th>\n",
              "      <td>8.380000e+02</td>\n",
              "      <td>6.000000e+00</td>\n",
              "      <td>7.856000e+03</td>\n",
              "      <td>8.370000e+02</td>\n",
              "      <td>1.000000e+00</td>\n",
              "      <td>1.000000e+00</td>\n",
              "      <td>0.000000e+00</td>\n",
              "      <td>6.880000e+03</td>\n",
              "      <td>9.000000e+00</td>\n",
              "      <td>2.013000e+03</td>\n",
              "      <td>1.000000e+00</td>\n",
              "      <td>2.200000e+01</td>\n",
              "      <td>2.012000e+03</td>\n",
              "    </tr>\n",
              "    <tr>\n",
              "      <th>max</th>\n",
              "      <td>1.115000e+03</td>\n",
              "      <td>7.000000e+00</td>\n",
              "      <td>4.155100e+04</td>\n",
              "      <td>7.388000e+03</td>\n",
              "      <td>1.000000e+00</td>\n",
              "      <td>1.000000e+00</td>\n",
              "      <td>1.000000e+00</td>\n",
              "      <td>7.586000e+04</td>\n",
              "      <td>1.200000e+01</td>\n",
              "      <td>2.015000e+03</td>\n",
              "      <td>1.000000e+00</td>\n",
              "      <td>5.000000e+01</td>\n",
              "      <td>2.015000e+03</td>\n",
              "    </tr>\n",
              "  </tbody>\n",
              "</table>\n",
              "</div>\n",
              "      <button class=\"colab-df-convert\" onclick=\"convertToInteractive('df-d383d89f-bd38-4518-a6de-89fbd95a0278')\"\n",
              "              title=\"Convert this dataframe to an interactive table.\"\n",
              "              style=\"display:none;\">\n",
              "        \n",
              "  <svg xmlns=\"http://www.w3.org/2000/svg\" height=\"24px\"viewBox=\"0 0 24 24\"\n",
              "       width=\"24px\">\n",
              "    <path d=\"M0 0h24v24H0V0z\" fill=\"none\"/>\n",
              "    <path d=\"M18.56 5.44l.94 2.06.94-2.06 2.06-.94-2.06-.94-.94-2.06-.94 2.06-2.06.94zm-11 1L8.5 8.5l.94-2.06 2.06-.94-2.06-.94L8.5 2.5l-.94 2.06-2.06.94zm10 10l.94 2.06.94-2.06 2.06-.94-2.06-.94-.94-2.06-.94 2.06-2.06.94z\"/><path d=\"M17.41 7.96l-1.37-1.37c-.4-.4-.92-.59-1.43-.59-.52 0-1.04.2-1.43.59L10.3 9.45l-7.72 7.72c-.78.78-.78 2.05 0 2.83L4 21.41c.39.39.9.59 1.41.59.51 0 1.02-.2 1.41-.59l7.78-7.78 2.81-2.81c.8-.78.8-2.07 0-2.86zM5.41 20L4 18.59l7.72-7.72 1.47 1.35L5.41 20z\"/>\n",
              "  </svg>\n",
              "      </button>\n",
              "      \n",
              "  <style>\n",
              "    .colab-df-container {\n",
              "      display:flex;\n",
              "      flex-wrap:wrap;\n",
              "      gap: 12px;\n",
              "    }\n",
              "\n",
              "    .colab-df-convert {\n",
              "      background-color: #E8F0FE;\n",
              "      border: none;\n",
              "      border-radius: 50%;\n",
              "      cursor: pointer;\n",
              "      display: none;\n",
              "      fill: #1967D2;\n",
              "      height: 32px;\n",
              "      padding: 0 0 0 0;\n",
              "      width: 32px;\n",
              "    }\n",
              "\n",
              "    .colab-df-convert:hover {\n",
              "      background-color: #E2EBFA;\n",
              "      box-shadow: 0px 1px 2px rgba(60, 64, 67, 0.3), 0px 1px 3px 1px rgba(60, 64, 67, 0.15);\n",
              "      fill: #174EA6;\n",
              "    }\n",
              "\n",
              "    [theme=dark] .colab-df-convert {\n",
              "      background-color: #3B4455;\n",
              "      fill: #D2E3FC;\n",
              "    }\n",
              "\n",
              "    [theme=dark] .colab-df-convert:hover {\n",
              "      background-color: #434B5C;\n",
              "      box-shadow: 0px 1px 3px 1px rgba(0, 0, 0, 0.15);\n",
              "      filter: drop-shadow(0px 1px 2px rgba(0, 0, 0, 0.3));\n",
              "      fill: #FFFFFF;\n",
              "    }\n",
              "  </style>\n",
              "\n",
              "      <script>\n",
              "        const buttonEl =\n",
              "          document.querySelector('#df-d383d89f-bd38-4518-a6de-89fbd95a0278 button.colab-df-convert');\n",
              "        buttonEl.style.display =\n",
              "          google.colab.kernel.accessAllowed ? 'block' : 'none';\n",
              "\n",
              "        async function convertToInteractive(key) {\n",
              "          const element = document.querySelector('#df-d383d89f-bd38-4518-a6de-89fbd95a0278');\n",
              "          const dataTable =\n",
              "            await google.colab.kernel.invokeFunction('convertToInteractive',\n",
              "                                                     [key], {});\n",
              "          if (!dataTable) return;\n",
              "\n",
              "          const docLinkHtml = 'Like what you see? Visit the ' +\n",
              "            '<a target=\"_blank\" href=https://colab.research.google.com/notebooks/data_table.ipynb>data table notebook</a>'\n",
              "            + ' to learn more about interactive tables.';\n",
              "          element.innerHTML = '';\n",
              "          dataTable['output_type'] = 'display_data';\n",
              "          await google.colab.output.renderOutput(dataTable, element);\n",
              "          const docLink = document.createElement('div');\n",
              "          docLink.innerHTML = docLinkHtml;\n",
              "          element.appendChild(docLink);\n",
              "        }\n",
              "      </script>\n",
              "    </div>\n",
              "  </div>\n",
              "  "
            ]
          },
          "metadata": {},
          "execution_count": 58
        }
      ],
      "source": [
        "# looking for some statistical description of our main dataset using describe function\n",
        "new_dataset.describe()"
      ]
    },
    {
      "cell_type": "markdown",
      "source": [
        " **Data Manipulation**"
      ],
      "metadata": {
        "id": "Sv00Ue5GFG8e"
      }
    },
    {
      "cell_type": "code",
      "source": [
        "# eliminating the rows where the stores are closed, i.e. rows with Open ==0, as they are not relevant to predict sales.\n",
        "new_dataset = new_dataset[new_dataset.Open == 1]"
      ],
      "metadata": {
        "id": "evTUTZDg3Ypf"
      },
      "execution_count": 59,
      "outputs": []
    },
    {
      "cell_type": "code",
      "source": [
        "#Since we have removed all the rows with Open == 0, we are only left with rows where stores are Open.\n",
        "# Hence dropping the Open Column from our dataset\n",
        "new_dataset.drop(\"Open\",axis=1, inplace= True)"
      ],
      "metadata": {
        "id": "6lCMNsupSawm"
      },
      "execution_count": 60,
      "outputs": []
    },
    {
      "cell_type": "code",
      "source": [
        "# checking for rows with zero sales \n",
        "new_dataset[\"Store\"][new_dataset[\"Sales\"]==0].sum()"
      ],
      "metadata": {
        "colab": {
          "base_uri": "https://localhost:8080/"
        },
        "id": "Cy_oZLlU3Zuy",
        "outputId": "bf657381-1f7e-46ed-a0e1-b27f50909b46"
      },
      "execution_count": 61,
      "outputs": [
        {
          "output_type": "execute_result",
          "data": {
            "text/plain": [
              "31460"
            ]
          },
          "metadata": {},
          "execution_count": 61
        }
      ]
    },
    {
      "cell_type": "code",
      "source": [
        "# calculating the percentage of rows with zero sales in our dataset\n",
        "round((new_dataset[\"Store\"][new_dataset[\"Sales\"]==0].sum()/new_dataset[\"Store\"].sum()*100) ,4)"
      ],
      "metadata": {
        "colab": {
          "base_uri": "https://localhost:8080/"
        },
        "id": "oq4GP7133fsJ",
        "outputId": "64a64302-86d7-4688-f19b-d4f7037fcac0"
      },
      "execution_count": 62,
      "outputs": [
        {
          "output_type": "execute_result",
          "data": {
            "text/plain": [
              "0.0067"
            ]
          },
          "metadata": {},
          "execution_count": 62
        }
      ]
    },
    {
      "cell_type": "code",
      "source": [
        "# We can see that there are only 0.0067% data with zero sales so eliminating those instances from our datatset.\n",
        "new_dataset = new_dataset[new_dataset.Sales!=0]"
      ],
      "metadata": {
        "id": "iSXQPZ9b3igu"
      },
      "execution_count": 63,
      "outputs": []
    },
    {
      "cell_type": "code",
      "source": [
        "#checking for information of our dataset\n",
        "new_dataset.info()"
      ],
      "metadata": {
        "colab": {
          "base_uri": "https://localhost:8080/"
        },
        "id": "bRBKq-Xz3-EB",
        "outputId": "4063a188-60b0-42b0-c87d-a48d6c0a2129"
      },
      "execution_count": 64,
      "outputs": [
        {
          "output_type": "stream",
          "name": "stdout",
          "text": [
            "<class 'pandas.core.frame.DataFrame'>\n",
            "Int64Index: 844338 entries, 0 to 1017190\n",
            "Data columns (total 17 columns):\n",
            " #   Column                     Non-Null Count   Dtype  \n",
            "---  ------                     --------------   -----  \n",
            " 0   Store                      844338 non-null  int64  \n",
            " 1   DayOfWeek                  844338 non-null  int64  \n",
            " 2   Date                       844338 non-null  object \n",
            " 3   Sales                      844338 non-null  int64  \n",
            " 4   Customers                  844338 non-null  int64  \n",
            " 5   Promo                      844338 non-null  int64  \n",
            " 6   StateHoliday               844338 non-null  object \n",
            " 7   SchoolHoliday              844338 non-null  int64  \n",
            " 8   StoreType                  844338 non-null  object \n",
            " 9   Assortment                 844338 non-null  object \n",
            " 10  CompetitionDistance        844338 non-null  float64\n",
            " 11  CompetitionOpenSinceMonth  844338 non-null  float64\n",
            " 12  CompetitionOpenSinceYear   844338 non-null  float64\n",
            " 13  Promo2                     844338 non-null  int64  \n",
            " 14  Promo2SinceWeek            844338 non-null  float64\n",
            " 15  Promo2SinceYear            844338 non-null  float64\n",
            " 16  PromoInterval              844338 non-null  object \n",
            "dtypes: float64(5), int64(7), object(5)\n",
            "memory usage: 116.0+ MB\n"
          ]
        }
      ]
    },
    {
      "cell_type": "code",
      "execution_count": 65,
      "metadata": {
        "id": "XRUeVj7HN3FF"
      },
      "outputs": [],
      "source": [
        "# adding a weekend column in our dataset with 0,1 values if weekend or weekdays respectively\n",
        "Weekend = []\n",
        "for row in new_dataset['DayOfWeek']:\n",
        "    if row < 6 :    Weekend.append(0)        \n",
        "      \n",
        "    else:           Weekend.append(1)"
      ]
    },
    {
      "cell_type": "code",
      "execution_count": 66,
      "metadata": {
        "id": "mXT3UVOpQrLI"
      },
      "outputs": [],
      "source": [
        "#adding the weekend column in our dataset\n",
        "new_dataset['Weekend'] = pd.Series(Weekend)"
      ]
    },
    {
      "cell_type": "code",
      "execution_count": 67,
      "metadata": {
        "colab": {
          "base_uri": "https://localhost:8080/",
          "height": 357
        },
        "id": "P0u8JSgZN2_w",
        "outputId": "0854454b-a60d-48e3-ed18-d15555c57df1"
      },
      "outputs": [
        {
          "output_type": "execute_result",
          "data": {
            "text/plain": [
              "   Store  DayOfWeek        Date  Sales  Customers  Promo StateHoliday  \\\n",
              "0      1          5  2015-07-31   5263        555      1            0   \n",
              "1      2          5  2015-07-31   6064        625      1            0   \n",
              "2      3          5  2015-07-31   8314        821      1            0   \n",
              "3      4          5  2015-07-31  13995       1498      1            0   \n",
              "4      5          5  2015-07-31   4822        559      1            0   \n",
              "\n",
              "   SchoolHoliday StoreType Assortment  CompetitionDistance  \\\n",
              "0              1         c          a               1270.0   \n",
              "1              1         a          a                570.0   \n",
              "2              1         a          a              14130.0   \n",
              "3              1         c          c                620.0   \n",
              "4              1         a          a              29910.0   \n",
              "\n",
              "   CompetitionOpenSinceMonth  CompetitionOpenSinceYear  Promo2  \\\n",
              "0                        9.0                    2008.0       0   \n",
              "1                       11.0                    2007.0       1   \n",
              "2                       12.0                    2006.0       1   \n",
              "3                        9.0                    2009.0       0   \n",
              "4                        4.0                    2015.0       0   \n",
              "\n",
              "   Promo2SinceWeek  Promo2SinceYear    PromoInterval  Weekend  \n",
              "0              0.0              0.0                0      0.0  \n",
              "1             13.0           2010.0  Jan,Apr,Jul,Oct      0.0  \n",
              "2             14.0           2011.0  Jan,Apr,Jul,Oct      0.0  \n",
              "3              0.0              0.0                0      0.0  \n",
              "4              0.0              0.0                0      0.0  "
            ],
            "text/html": [
              "\n",
              "  <div id=\"df-7e9c41d9-6169-43bc-9ad0-03f63723f7f7\">\n",
              "    <div class=\"colab-df-container\">\n",
              "      <div>\n",
              "<style scoped>\n",
              "    .dataframe tbody tr th:only-of-type {\n",
              "        vertical-align: middle;\n",
              "    }\n",
              "\n",
              "    .dataframe tbody tr th {\n",
              "        vertical-align: top;\n",
              "    }\n",
              "\n",
              "    .dataframe thead th {\n",
              "        text-align: right;\n",
              "    }\n",
              "</style>\n",
              "<table border=\"1\" class=\"dataframe\">\n",
              "  <thead>\n",
              "    <tr style=\"text-align: right;\">\n",
              "      <th></th>\n",
              "      <th>Store</th>\n",
              "      <th>DayOfWeek</th>\n",
              "      <th>Date</th>\n",
              "      <th>Sales</th>\n",
              "      <th>Customers</th>\n",
              "      <th>Promo</th>\n",
              "      <th>StateHoliday</th>\n",
              "      <th>SchoolHoliday</th>\n",
              "      <th>StoreType</th>\n",
              "      <th>Assortment</th>\n",
              "      <th>CompetitionDistance</th>\n",
              "      <th>CompetitionOpenSinceMonth</th>\n",
              "      <th>CompetitionOpenSinceYear</th>\n",
              "      <th>Promo2</th>\n",
              "      <th>Promo2SinceWeek</th>\n",
              "      <th>Promo2SinceYear</th>\n",
              "      <th>PromoInterval</th>\n",
              "      <th>Weekend</th>\n",
              "    </tr>\n",
              "  </thead>\n",
              "  <tbody>\n",
              "    <tr>\n",
              "      <th>0</th>\n",
              "      <td>1</td>\n",
              "      <td>5</td>\n",
              "      <td>2015-07-31</td>\n",
              "      <td>5263</td>\n",
              "      <td>555</td>\n",
              "      <td>1</td>\n",
              "      <td>0</td>\n",
              "      <td>1</td>\n",
              "      <td>c</td>\n",
              "      <td>a</td>\n",
              "      <td>1270.0</td>\n",
              "      <td>9.0</td>\n",
              "      <td>2008.0</td>\n",
              "      <td>0</td>\n",
              "      <td>0.0</td>\n",
              "      <td>0.0</td>\n",
              "      <td>0</td>\n",
              "      <td>0.0</td>\n",
              "    </tr>\n",
              "    <tr>\n",
              "      <th>1</th>\n",
              "      <td>2</td>\n",
              "      <td>5</td>\n",
              "      <td>2015-07-31</td>\n",
              "      <td>6064</td>\n",
              "      <td>625</td>\n",
              "      <td>1</td>\n",
              "      <td>0</td>\n",
              "      <td>1</td>\n",
              "      <td>a</td>\n",
              "      <td>a</td>\n",
              "      <td>570.0</td>\n",
              "      <td>11.0</td>\n",
              "      <td>2007.0</td>\n",
              "      <td>1</td>\n",
              "      <td>13.0</td>\n",
              "      <td>2010.0</td>\n",
              "      <td>Jan,Apr,Jul,Oct</td>\n",
              "      <td>0.0</td>\n",
              "    </tr>\n",
              "    <tr>\n",
              "      <th>2</th>\n",
              "      <td>3</td>\n",
              "      <td>5</td>\n",
              "      <td>2015-07-31</td>\n",
              "      <td>8314</td>\n",
              "      <td>821</td>\n",
              "      <td>1</td>\n",
              "      <td>0</td>\n",
              "      <td>1</td>\n",
              "      <td>a</td>\n",
              "      <td>a</td>\n",
              "      <td>14130.0</td>\n",
              "      <td>12.0</td>\n",
              "      <td>2006.0</td>\n",
              "      <td>1</td>\n",
              "      <td>14.0</td>\n",
              "      <td>2011.0</td>\n",
              "      <td>Jan,Apr,Jul,Oct</td>\n",
              "      <td>0.0</td>\n",
              "    </tr>\n",
              "    <tr>\n",
              "      <th>3</th>\n",
              "      <td>4</td>\n",
              "      <td>5</td>\n",
              "      <td>2015-07-31</td>\n",
              "      <td>13995</td>\n",
              "      <td>1498</td>\n",
              "      <td>1</td>\n",
              "      <td>0</td>\n",
              "      <td>1</td>\n",
              "      <td>c</td>\n",
              "      <td>c</td>\n",
              "      <td>620.0</td>\n",
              "      <td>9.0</td>\n",
              "      <td>2009.0</td>\n",
              "      <td>0</td>\n",
              "      <td>0.0</td>\n",
              "      <td>0.0</td>\n",
              "      <td>0</td>\n",
              "      <td>0.0</td>\n",
              "    </tr>\n",
              "    <tr>\n",
              "      <th>4</th>\n",
              "      <td>5</td>\n",
              "      <td>5</td>\n",
              "      <td>2015-07-31</td>\n",
              "      <td>4822</td>\n",
              "      <td>559</td>\n",
              "      <td>1</td>\n",
              "      <td>0</td>\n",
              "      <td>1</td>\n",
              "      <td>a</td>\n",
              "      <td>a</td>\n",
              "      <td>29910.0</td>\n",
              "      <td>4.0</td>\n",
              "      <td>2015.0</td>\n",
              "      <td>0</td>\n",
              "      <td>0.0</td>\n",
              "      <td>0.0</td>\n",
              "      <td>0</td>\n",
              "      <td>0.0</td>\n",
              "    </tr>\n",
              "  </tbody>\n",
              "</table>\n",
              "</div>\n",
              "      <button class=\"colab-df-convert\" onclick=\"convertToInteractive('df-7e9c41d9-6169-43bc-9ad0-03f63723f7f7')\"\n",
              "              title=\"Convert this dataframe to an interactive table.\"\n",
              "              style=\"display:none;\">\n",
              "        \n",
              "  <svg xmlns=\"http://www.w3.org/2000/svg\" height=\"24px\"viewBox=\"0 0 24 24\"\n",
              "       width=\"24px\">\n",
              "    <path d=\"M0 0h24v24H0V0z\" fill=\"none\"/>\n",
              "    <path d=\"M18.56 5.44l.94 2.06.94-2.06 2.06-.94-2.06-.94-.94-2.06-.94 2.06-2.06.94zm-11 1L8.5 8.5l.94-2.06 2.06-.94-2.06-.94L8.5 2.5l-.94 2.06-2.06.94zm10 10l.94 2.06.94-2.06 2.06-.94-2.06-.94-.94-2.06-.94 2.06-2.06.94z\"/><path d=\"M17.41 7.96l-1.37-1.37c-.4-.4-.92-.59-1.43-.59-.52 0-1.04.2-1.43.59L10.3 9.45l-7.72 7.72c-.78.78-.78 2.05 0 2.83L4 21.41c.39.39.9.59 1.41.59.51 0 1.02-.2 1.41-.59l7.78-7.78 2.81-2.81c.8-.78.8-2.07 0-2.86zM5.41 20L4 18.59l7.72-7.72 1.47 1.35L5.41 20z\"/>\n",
              "  </svg>\n",
              "      </button>\n",
              "      \n",
              "  <style>\n",
              "    .colab-df-container {\n",
              "      display:flex;\n",
              "      flex-wrap:wrap;\n",
              "      gap: 12px;\n",
              "    }\n",
              "\n",
              "    .colab-df-convert {\n",
              "      background-color: #E8F0FE;\n",
              "      border: none;\n",
              "      border-radius: 50%;\n",
              "      cursor: pointer;\n",
              "      display: none;\n",
              "      fill: #1967D2;\n",
              "      height: 32px;\n",
              "      padding: 0 0 0 0;\n",
              "      width: 32px;\n",
              "    }\n",
              "\n",
              "    .colab-df-convert:hover {\n",
              "      background-color: #E2EBFA;\n",
              "      box-shadow: 0px 1px 2px rgba(60, 64, 67, 0.3), 0px 1px 3px 1px rgba(60, 64, 67, 0.15);\n",
              "      fill: #174EA6;\n",
              "    }\n",
              "\n",
              "    [theme=dark] .colab-df-convert {\n",
              "      background-color: #3B4455;\n",
              "      fill: #D2E3FC;\n",
              "    }\n",
              "\n",
              "    [theme=dark] .colab-df-convert:hover {\n",
              "      background-color: #434B5C;\n",
              "      box-shadow: 0px 1px 3px 1px rgba(0, 0, 0, 0.15);\n",
              "      filter: drop-shadow(0px 1px 2px rgba(0, 0, 0, 0.3));\n",
              "      fill: #FFFFFF;\n",
              "    }\n",
              "  </style>\n",
              "\n",
              "      <script>\n",
              "        const buttonEl =\n",
              "          document.querySelector('#df-7e9c41d9-6169-43bc-9ad0-03f63723f7f7 button.colab-df-convert');\n",
              "        buttonEl.style.display =\n",
              "          google.colab.kernel.accessAllowed ? 'block' : 'none';\n",
              "\n",
              "        async function convertToInteractive(key) {\n",
              "          const element = document.querySelector('#df-7e9c41d9-6169-43bc-9ad0-03f63723f7f7');\n",
              "          const dataTable =\n",
              "            await google.colab.kernel.invokeFunction('convertToInteractive',\n",
              "                                                     [key], {});\n",
              "          if (!dataTable) return;\n",
              "\n",
              "          const docLinkHtml = 'Like what you see? Visit the ' +\n",
              "            '<a target=\"_blank\" href=https://colab.research.google.com/notebooks/data_table.ipynb>data table notebook</a>'\n",
              "            + ' to learn more about interactive tables.';\n",
              "          element.innerHTML = '';\n",
              "          dataTable['output_type'] = 'display_data';\n",
              "          await google.colab.output.renderOutput(dataTable, element);\n",
              "          const docLink = document.createElement('div');\n",
              "          docLink.innerHTML = docLinkHtml;\n",
              "          element.appendChild(docLink);\n",
              "        }\n",
              "      </script>\n",
              "    </div>\n",
              "  </div>\n",
              "  "
            ]
          },
          "metadata": {},
          "execution_count": 67
        }
      ],
      "source": [
        "#checking top 5 rows of dataset\n",
        "new_dataset.head()"
      ]
    },
    {
      "cell_type": "code",
      "execution_count": 68,
      "metadata": {
        "id": "zzmBPDLLHMZb"
      },
      "outputs": [],
      "source": [
        "# making a list for all the continuous independent variables \n",
        "continuous_variable_list = [\"Customers\",\"CompetitionDistance\"]"
      ]
    },
    {
      "cell_type": "code",
      "execution_count": 69,
      "metadata": {
        "id": "KWXWqL88GwM-"
      },
      "outputs": [],
      "source": [
        "# making a list for all the categorical independent variables \n",
        "categorical_variable_list = ['DayOfWeek','Promo','StateHoliday','SchoolHoliday','StoreType',\n",
        "                             'Assortment','CompetitionOpenSinceMonth','CompetitionOpenSinceYear','Promo2',\n",
        "                             'Promo2SinceWeek','Promo2SinceYear','PromoInterval']"
      ]
    },
    {
      "cell_type": "code",
      "execution_count": 70,
      "metadata": {
        "id": "R_Wi3LjELQ74"
      },
      "outputs": [],
      "source": [
        "#defining a function to extract date, month and year from date column\n",
        "def extract_year(x):\n",
        "    return int(str(x)[:4])\n",
        "\n",
        "def extract_month(x):\n",
        "    return int(str(x)[5:7])\n",
        "\n",
        "def extract_month_year(x):\n",
        "    return (str(x)[:7])"
      ]
    },
    {
      "cell_type": "code",
      "execution_count": 71,
      "metadata": {
        "id": "dnvv_nMrLWHp"
      },
      "outputs": [],
      "source": [
        "#adding date, month and year columns ith respected extracted values in dataset\n",
        "new_dataset['Date'] = new_dataset['Date'].apply(extract_month_year)\n",
        "df_sales['Date'] = df_sales['Date'].apply(extract_month_year)\n",
        "new_dataset['Year']  = new_dataset['Date'].apply(extract_year)\n",
        "new_dataset['Month'] = new_dataset['Date'].apply(extract_month)\n",
        "df_sales['Year']  = df_sales['Date'].apply(extract_year)\n",
        "df_sales['Month'] = df_sales['Date'].apply(extract_month)"
      ]
    },
    {
      "cell_type": "code",
      "execution_count": 72,
      "metadata": {
        "colab": {
          "base_uri": "https://localhost:8080/"
        },
        "id": "UeeYQtizGwJb",
        "outputId": "79be0119-ab8e-4e1b-9360-a796e6951aed"
      },
      "outputs": [
        {
          "output_type": "stream",
          "name": "stdout",
          "text": [
            "Unique values of DayOfWeek column are [5 4 3 2 1 7 6] \n",
            "\n",
            "\n",
            "Unique values of Promo column are [1 0] \n",
            "\n",
            "\n",
            "Unique values of StateHoliday column are ['0' 'a' 'b' 'c' 0] \n",
            "\n",
            "\n",
            "Unique values of SchoolHoliday column are [1 0] \n",
            "\n",
            "\n",
            "Unique values of StoreType column are ['c' 'a' 'd' 'b'] \n",
            "\n",
            "\n",
            "Unique values of Assortment column are ['a' 'c' 'b'] \n",
            "\n",
            "\n",
            "Unique values of CompetitionOpenSinceMonth column are [ 9. 11. 12.  4. 10.  8.  3.  6.  5.  1.  2.  7.] \n",
            "\n",
            "\n",
            "Unique values of CompetitionOpenSinceYear column are [2008. 2007. 2006. 2009. 2015. 2013. 2014. 2000. 2011. 2010. 2005. 1999.\n",
            " 2003. 2012. 2004. 2002. 1961. 1995. 2001. 1990. 1994. 1900. 1998.] \n",
            "\n",
            "\n",
            "Unique values of Promo2 column are [0 1] \n",
            "\n",
            "\n",
            "Unique values of Promo2SinceWeek column are [ 0. 13. 14.  1. 45. 40. 26. 22.  5.  6. 10. 31. 37.  9. 39. 27. 18. 35.\n",
            " 23. 48. 36. 50. 44. 49. 28.] \n",
            "\n",
            "\n",
            "Unique values of Promo2SinceYear column are [   0. 2010. 2011. 2012. 2009. 2014. 2015. 2013.] \n",
            "\n",
            "\n",
            "Unique values of PromoInterval column are [0 'Jan,Apr,Jul,Oct' 'Feb,May,Aug,Nov' 'Mar,Jun,Sept,Dec'] \n",
            "\n",
            "\n"
          ]
        }
      ],
      "source": [
        "# checking all the unique values for catergorical independent variables\n",
        "for i in categorical_variable_list:\n",
        "  print(f'Unique values of {i} column are {new_dataset[i].unique()} ')\n",
        "  print(\"\\n\")"
      ]
    },
    {
      "cell_type": "code",
      "execution_count": 73,
      "metadata": {
        "colab": {
          "base_uri": "https://localhost:8080/"
        },
        "id": "-YoH4imIewaR",
        "outputId": "6e717501-71fa-40bc-c4ad-f6d09149a956"
      },
      "outputs": [
        {
          "output_type": "execute_result",
          "data": {
            "text/plain": [
              "a    457042\n",
              "d    258768\n",
              "c    112968\n",
              "b     15560\n",
              "Name: StoreType, dtype: int64"
            ]
          },
          "metadata": {},
          "execution_count": 73
        }
      ],
      "source": [
        "#Counting stores present in each Store Types\n",
        "new_dataset.StoreType.value_counts()"
      ]
    },
    {
      "cell_type": "code",
      "execution_count": 74,
      "metadata": {
        "id": "q51XXjn7I0ye"
      },
      "outputs": [],
      "source": [
        "#Adding a column for average sales for each storetype in the dataset\n",
        "Average_Storewise_sales = new_dataset.groupby('StoreType')['Store'].mean()"
      ]
    },
    {
      "cell_type": "code",
      "execution_count": 75,
      "metadata": {
        "colab": {
          "base_uri": "https://localhost:8080/"
        },
        "id": "DBb1vHyfKYMv",
        "outputId": "fb35df36-e476-4f5d-bdc8-15ea69ed2a1e"
      },
      "outputs": [
        {
          "output_type": "stream",
          "name": "stdout",
          "text": [
            "StoreType\n",
            "a    560.087410\n",
            "b    555.930077\n",
            "c    608.222337\n",
            "d    533.887432\n",
            "Name: Store, dtype: float64\n"
          ]
        }
      ],
      "source": [
        "# printing the average sales for each storetype\n",
        "print(Average_Storewise_sales)"
      ]
    },
    {
      "cell_type": "code",
      "execution_count": 76,
      "metadata": {
        "id": "Wvk7pVOCuARV"
      },
      "outputs": [],
      "source": [
        "x = ['Store','DayOfWeek','Customers','Promo','SchoolHoliday','CompetitionDistance','CompetitionOpenSinceYear','Sales']"
      ]
    },
    {
      "cell_type": "markdown",
      "source": [
        "## **Data Vizualization**"
      ],
      "metadata": {
        "id": "qhPQ2RaYJ9jp"
      }
    },
    {
      "cell_type": "markdown",
      "source": [
        "### **Univariate Analysis**"
      ],
      "metadata": {
        "id": "84IN3rfdKC0E"
      }
    },
    {
      "cell_type": "markdown",
      "source": [
        "*** Data Vizualization for Continuous Variables***"
      ],
      "metadata": {
        "id": "Yoeb0pTzKR-y"
      }
    },
    {
      "cell_type": "code",
      "source": [
        "# Plotting distribution plot for each continuous variables : Customers,Sales and Competition Distance"
      ],
      "metadata": {
        "id": "3oL2zB61KmeZ"
      },
      "execution_count": 77,
      "outputs": []
    },
    {
      "cell_type": "code",
      "execution_count": 78,
      "metadata": {
        "colab": {
          "base_uri": "https://localhost:8080/",
          "height": 279
        },
        "id": "di63HZau1WUT",
        "outputId": "0044d32f-5668-4f2f-ec7d-1e3596f1c1bf"
      },
      "outputs": [
        {
          "output_type": "display_data",
          "data": {
            "text/plain": [
              "<Figure size 432x288 with 1 Axes>"
            ],
            "image/png": "[encoded data removed]"
          },
          "metadata": {
            "needs_background": "light"
          }
        }
      ],
      "source": [
        "sns.distplot(new_dataset['Customers'], color=\"y\")\n",
        "plt.show()"
      ]
    },
    {
      "cell_type": "markdown",
      "source": [
        "*From the above probability density plot we can see that the 'Customers' is not normally distributed, it's a bit right skewed.To treat the skweness we are using Square root transformation for the particular variable.*"
      ],
      "metadata": {
        "id": "yWhZNCVtNpkj"
      }
    },
    {
      "cell_type": "code",
      "source": [
        "new_dataset[\"sqrt_Customers\"] = np.sqrt(new_dataset[\"Customers\"])"
      ],
      "metadata": {
        "id": "LK_Ljrjm5y-A"
      },
      "execution_count": 79,
      "outputs": []
    },
    {
      "cell_type": "code",
      "source": [
        "sns.distplot(new_dataset['sqrt_Customers'], color=\"y\")\n",
        "plt.show()"
      ],
      "metadata": {
        "colab": {
          "base_uri": "https://localhost:8080/",
          "height": 280
        },
        "id": "kijlI-3V5-DQ",
        "outputId": "4c38919e-096a-4b28-ac46-baeaeb2ee4e8"
      },
      "execution_count": 80,
      "outputs": [
        {
          "output_type": "display_data",
          "data": {
            "text/plain": [
              "<Figure size 432x288 with 1 Axes>"
            ],
            "image/png": "[encoded data removed]"
          },
          "metadata": {
            "needs_background": "light"
          }
        }
      ]
    },
    {
      "cell_type": "code",
      "execution_count": 81,
      "metadata": {
        "colab": {
          "base_uri": "https://localhost:8080/",
          "height": 279
        },
        "id": "rKUEskx57KyT",
        "outputId": "ef0ab31c-92b4-4cd4-ae76-83b86121af9a"
      },
      "outputs": [
        {
          "output_type": "display_data",
          "data": {
            "text/plain": [
              "<Figure size 432x288 with 1 Axes>"
            ],
            "image/png": "[encoded data removed]"
          },
          "metadata": {
            "needs_background": "light"
          }
        }
      ],
      "source": [
        "sns.distplot(new_dataset['CompetitionDistance'], color=\"y\")\n",
        "plt.show()"
      ]
    },
    {
      "cell_type": "code",
      "execution_count": 82,
      "metadata": {
        "id": "Xq6BJMsa2zoK"
      },
      "outputs": [],
      "source": [
        "new_dataset[\"log_CompetitionDistance\"] = np.log(new_dataset[\"CompetitionDistance\"])"
      ]
    },
    {
      "cell_type": "markdown",
      "source": [
        "*From the above probability density plot we can see that the 'Competition Distance' is not normally distributed, it's moderately right skewed.To treat the skweness we are using Log transformation for the particular variable.*"
      ],
      "metadata": {
        "id": "pXHO5WyfO4G0"
      }
    },
    {
      "cell_type": "code",
      "execution_count": 83,
      "metadata": {
        "colab": {
          "base_uri": "https://localhost:8080/",
          "height": 280
        },
        "id": "YWRro95o8Fz_",
        "outputId": "d912558c-a93b-4aa4-e794-f2915a9a92d0"
      },
      "outputs": [
        {
          "output_type": "display_data",
          "data": {
            "text/plain": [
              "<Figure size 432x288 with 1 Axes>"
            ],
            "image/png": "[encoded data removed]"
          },
          "metadata": {
            "needs_background": "light"
          }
        }
      ],
      "source": [
        "sns.distplot(new_dataset[\"log_CompetitionDistance\"], color=\"y\")\n",
        "plt.show()"
      ]
    },
    {
      "cell_type": "markdown",
      "source": [
        "*Checking the distribution of the Target Variable:Sales using distplot*"
      ],
      "metadata": {
        "id": "5rAR_ZIIPK0s"
      }
    },
    {
      "cell_type": "code",
      "execution_count": 84,
      "metadata": {
        "colab": {
          "base_uri": "https://localhost:8080/",
          "height": 279
        },
        "id": "nuaizxi6sbPz",
        "outputId": "c4b99fa4-6902-44a5-b457-1570b1e46a3b"
      },
      "outputs": [
        {
          "output_type": "display_data",
          "data": {
            "text/plain": [
              "<Figure size 432x288 with 1 Axes>"
            ],
            "image/png": "[encoded data removed]"
          },
          "metadata": {
            "needs_background": "light"
          }
        }
      ],
      "source": [
        "sns.distplot(new_dataset['Sales'], color=\"y\")\n",
        "plt.show()"
      ]
    },
    {
      "cell_type": "markdown",
      "source": [
        "*From the above probability density plot we can see that the targe 'Sales' is not normally distributed, it's a bit rightly skewed.To treat the skweness we are using Square root transformation for the particular variable.*"
      ],
      "metadata": {
        "id": "AjevzUAcPVMS"
      }
    },
    {
      "cell_type": "code",
      "source": [
        "new_dataset[\"sqrt_Sales\"] = np.sqrt(new_dataset[\"Sales\"])"
      ],
      "metadata": {
        "id": "Yn0ihHfb49i1"
      },
      "execution_count": 85,
      "outputs": []
    },
    {
      "cell_type": "code",
      "source": [
        "sns.distplot(new_dataset['sqrt_Sales'], color=\"y\")\n",
        "plt.show()"
      ],
      "metadata": {
        "colab": {
          "base_uri": "https://localhost:8080/",
          "height": 280
        },
        "id": "NJy4y-BQ5LaF",
        "outputId": "cb7c262b-e0e3-43c5-873e-558d9b28bbdc"
      },
      "execution_count": 86,
      "outputs": [
        {
          "output_type": "display_data",
          "data": {
            "text/plain": [
              "<Figure size 432x288 with 1 Axes>"
            ],
            "image/png": "[encoded data removed]"
          },
          "metadata": {
            "needs_background": "light"
          }
        }
      ]
    },
    {
      "cell_type": "markdown",
      "source": [
        "*We can See Square Root Transformation did a great job! Our Target Variable is normally distributed and is ready to be used in our Model.*"
      ],
      "metadata": {
        "id": "eDdOHtkAPnOI"
      }
    },
    {
      "cell_type": "markdown",
      "source": [
        "### **Data Visualization for Categorical Independent Variables**"
      ],
      "metadata": {
        "id": "mCaEHr7eSCXy"
      }
    },
    {
      "cell_type": "markdown",
      "source": [],
      "metadata": {
        "id": "Z7xYaZFQL1yu"
      }
    },
    {
      "cell_type": "code",
      "execution_count": 87,
      "metadata": {
        "id": "gTyMSH0Vfkvm"
      },
      "outputs": [],
      "source": [
        "#creating a dataframe out of the categorical variable list constructed above\n",
        "cat_df = new_dataset[categorical_variable_list]"
      ]
    },
    {
      "cell_type": "code",
      "execution_count": 88,
      "metadata": {
        "colab": {
          "base_uri": "https://localhost:8080/",
          "height": 781
        },
        "id": "oQgKSsg5IZXY",
        "outputId": "2e04fcde-a397-4d20-a5f9-907fa84044a1"
      },
      "outputs": [
        {
          "output_type": "execute_result",
          "data": {
            "text/plain": [
              "array([[<matplotlib.axes._subplots.AxesSubplot object at 0x7f6e91eb4090>,\n",
              "        <matplotlib.axes._subplots.AxesSubplot object at 0x7f6e91e6c5d0>,\n",
              "        <matplotlib.axes._subplots.AxesSubplot object at 0x7f6e91e20bd0>],\n",
              "       [<matplotlib.axes._subplots.AxesSubplot object at 0x7f6e91de4210>,\n",
              "        <matplotlib.axes._subplots.AxesSubplot object at 0x7f6e91d9c810>,\n",
              "        <matplotlib.axes._subplots.AxesSubplot object at 0x7f6e91d52e10>],\n",
              "       [<matplotlib.axes._subplots.AxesSubplot object at 0x7f6e91d174d0>,\n",
              "        <matplotlib.axes._subplots.AxesSubplot object at 0x7f6e91d4da10>,\n",
              "        <matplotlib.axes._subplots.AxesSubplot object at 0x7f6e91d4da50>]],\n",
              "      dtype=object)"
            ]
          },
          "metadata": {},
          "execution_count": 88
        },
        {
          "output_type": "display_data",
          "data": {
            "text/plain": [
              "<Figure size 720x720 with 9 Axes>"
            ],
            "image/png": "[encoded data removed]"
          },
          "metadata": {
            "needs_background": "light"
          }
        }
      ],
      "source": [
        "# Univariate analysis of Categorical Variables in the dataset using Histograms.\n",
        "cat_df.hist(color = 'skyblue', figsize= (10,10))"
      ]
    },
    {
      "cell_type": "markdown",
      "source": [
        "### **Bivariate Analysis**"
      ],
      "metadata": {
        "id": "zKwDEBJYTTyU"
      }
    },
    {
      "cell_type": "markdown",
      "source": [
        "Store Type and Sales"
      ],
      "metadata": {
        "id": "FeaUhb9TTyOv"
      }
    },
    {
      "cell_type": "code",
      "execution_count": 89,
      "metadata": {
        "colab": {
          "base_uri": "https://localhost:8080/",
          "height": 386
        },
        "id": "REwTembKDAhS",
        "outputId": "d7113fe1-374c-4bef-c399-135ab4d4b06b"
      },
      "outputs": [
        {
          "output_type": "execute_result",
          "data": {
            "text/plain": [
              "<seaborn.axisgrid.FacetGrid at 0x7f6e91bdf990>"
            ]
          },
          "metadata": {},
          "execution_count": 89
        },
        {
          "output_type": "display_data",
          "data": {
            "text/plain": [
              "<Figure size 360x360 with 1 Axes>"
            ],
            "image/png": "[encoded data removed]"
          },
          "metadata": {
            "needs_background": "light"
          }
        }
      ],
      "source": [
        "# Plotting the sales for each Store Type using categorical barplot\n",
        "sns.catplot(data=new_dataset, x=\"StoreType\", y=\"Sales\", kind=\"bar\")"
      ]
    },
    {
      "cell_type": "markdown",
      "source": [
        "Customers and Sales"
      ],
      "metadata": {
        "id": "m_3u1YP7T576"
      }
    },
    {
      "cell_type": "code",
      "execution_count": 90,
      "metadata": {
        "colab": {
          "base_uri": "https://localhost:8080/",
          "height": 296
        },
        "id": "xX-53TW_QDsA",
        "outputId": "6812266d-a9da-4fa2-b2af-64fb25ca3416"
      },
      "outputs": [
        {
          "output_type": "execute_result",
          "data": {
            "text/plain": [
              "<matplotlib.axes._subplots.AxesSubplot at 0x7f6e919f2e10>"
            ]
          },
          "metadata": {},
          "execution_count": 90
        },
        {
          "output_type": "display_data",
          "data": {
            "text/plain": [
              "<Figure size 432x288 with 1 Axes>"
            ],
            "image/png": "[encoded data removed]"
          },
          "metadata": {
            "needs_background": "light"
          }
        }
      ],
      "source": [
        "# Plotting the relationship between Sales and Number of Customers using Scatterplot\n",
        "sns.scatterplot(x=new_dataset['Customers'], y=new_dataset['Sales'])"
      ]
    },
    {
      "cell_type": "markdown",
      "source": [
        "Competition Distance and Sales"
      ],
      "metadata": {
        "id": "GfdT7Ee4UbQw"
      }
    },
    {
      "cell_type": "code",
      "execution_count": 91,
      "metadata": {
        "colab": {
          "base_uri": "https://localhost:8080/",
          "height": 297
        },
        "id": "5A4KqU3lQDoI",
        "outputId": "52f3050d-036e-4d75-b5d0-5467f6ba6261"
      },
      "outputs": [
        {
          "output_type": "execute_result",
          "data": {
            "text/plain": [
              "<matplotlib.axes._subplots.AxesSubplot at 0x7f6e919dc350>"
            ]
          },
          "metadata": {},
          "execution_count": 91
        },
        {
          "output_type": "display_data",
          "data": {
            "text/plain": [
              "<Figure size 432x288 with 1 Axes>"
            ],
            "image/png": "[encoded data removed]"
          },
          "metadata": {
            "needs_background": "light"
          }
        }
      ],
      "source": [
        "# Plotting the relationship between Sales and Competition Distance using Scatterplot\n",
        "sns.scatterplot(x=new_dataset['log_CompetitionDistance'], y=new_dataset['Sales'])"
      ]
    },
    {
      "cell_type": "markdown",
      "source": [
        "Date and Sales: Monthly Sales"
      ],
      "metadata": {
        "id": "WlNlKunZVCGb"
      }
    },
    {
      "cell_type": "code",
      "execution_count": 92,
      "metadata": {
        "colab": {
          "base_uri": "https://localhost:8080/",
          "height": 323
        },
        "id": "_IEYPe77TTRc",
        "outputId": "92796cbf-41f5-45c8-9595-462c822c433f"
      },
      "outputs": [
        {
          "output_type": "display_data",
          "data": {
            "text/plain": [
              "<Figure size 432x288 with 1 Axes>"
            ],
            "image/png": "[encoded data removed]"
          },
          "metadata": {
            "needs_background": "light"
          }
        },
        {
          "output_type": "display_data",
          "data": {
            "text/plain": [
              "<Figure size 720x720 with 0 Axes>"
            ]
          },
          "metadata": {}
        }
      ],
      "source": [
        "#Monthly trend of sales using lineplot\n",
        "sns.lineplot(data=new_dataset.groupby('Date')['Sales'].mean().reset_index(), x='Date', y='Sales')\n",
        "plt.xticks(rotation= 45)\n",
        "plt.figure(figsize=(10,10))\n",
        "plt.show()"
      ]
    },
    {
      "cell_type": "markdown",
      "source": [],
      "metadata": {
        "id": "3pLJQgRJVipu"
      }
    },
    {
      "cell_type": "markdown",
      "source": [
        "State Holiday and Sales"
      ],
      "metadata": {
        "id": "7gdBYSq3GccF"
      }
    },
    {
      "cell_type": "code",
      "execution_count": 93,
      "metadata": {
        "colab": {
          "base_uri": "https://localhost:8080/",
          "height": 386
        },
        "id": "fe2d78Rgf5V5",
        "outputId": "b7cf2a45-3627-4519-bd23-ef1e68b1541b"
      },
      "outputs": [
        {
          "output_type": "execute_result",
          "data": {
            "text/plain": [
              "<seaborn.axisgrid.FacetGrid at 0x7f6e91dbed10>"
            ]
          },
          "metadata": {},
          "execution_count": 93
        },
        {
          "output_type": "display_data",
          "data": {
            "text/plain": [
              "<Figure size 360x360 with 1 Axes>"
            ],
            "image/png": "[encoded data removed]"
          },
          "metadata": {
            "needs_background": "light"
          }
        }
      ],
      "source": [
        "# Plotting categorical bar plot for count of Sales on each State Holidays\n",
        "sns.catplot(data=new_dataset, x=\"StateHoliday\", y=\"Sales\", kind=\"bar\")"
      ]
    },
    {
      "cell_type": "markdown",
      "source": [
        "School Holiday and Sales"
      ],
      "metadata": {
        "id": "AtWAVAZtG12L"
      }
    },
    {
      "cell_type": "code",
      "execution_count": 94,
      "metadata": {
        "id": "I7Bl80E8ELY1",
        "colab": {
          "base_uri": "https://localhost:8080/",
          "height": 386
        },
        "outputId": "388f6085-ec3b-4f0e-b372-d86761f43a9e"
      },
      "outputs": [
        {
          "output_type": "execute_result",
          "data": {
            "text/plain": [
              "<seaborn.axisgrid.FacetGrid at 0x7f6e91da8950>"
            ]
          },
          "metadata": {},
          "execution_count": 94
        },
        {
          "output_type": "display_data",
          "data": {
            "text/plain": [
              "<Figure size 360x360 with 1 Axes>"
            ],
            "image/png": "[encoded data removed]"
          },
          "metadata": {
            "needs_background": "light"
          }
        }
      ],
      "source": [
        "# Plotting categorical bar plot for count of Sales in each School Holiday\n",
        "sns.catplot(data=new_dataset, x=\"SchoolHoliday\", y=\"Sales\", kind=\"bar\")"
      ]
    },
    {
      "cell_type": "markdown",
      "source": [
        "Competition Open Since Year and Sales"
      ],
      "metadata": {
        "id": "DPSsrj18HRth"
      }
    },
    {
      "cell_type": "code",
      "execution_count": 95,
      "metadata": {
        "id": "-H9HDGmxK4nn",
        "colab": {
          "base_uri": "https://localhost:8080/",
          "height": 386
        },
        "outputId": "ca3cdf4d-e1b2-4dff-f946-1b4112e33552"
      },
      "outputs": [
        {
          "output_type": "execute_result",
          "data": {
            "text/plain": [
              "<seaborn.axisgrid.FacetGrid at 0x7f6e91edca10>"
            ]
          },
          "metadata": {},
          "execution_count": 95
        },
        {
          "output_type": "display_data",
          "data": {
            "text/plain": [
              "<Figure size 360x360 with 1 Axes>"
            ],
            "image/png": "[encoded data removed]"
          },
          "metadata": {
            "needs_background": "light"
          }
        }
      ],
      "source": [
        "#plotting line graph for showing trend in sales due to Competition open since year\n",
        "sns.catplot(data=new_dataset, x=\"CompetitionOpenSinceYear\", y=\"Sales\", kind=\"point\")"
      ]
    },
    {
      "cell_type": "code",
      "execution_count": 96,
      "metadata": {
        "id": "6FKOb4RpMx95"
      },
      "outputs": [],
      "source": [
        "#adding a column average customer sales by dividing Sales with Customers\n",
        "new_dataset[\"Avg_Customer_Sales\"] = new_dataset.Sales / new_dataset.Customers"
      ]
    },
    {
      "cell_type": "code",
      "execution_count": 97,
      "metadata": {
        "id": "A1_0oobdK4jd",
        "colab": {
          "base_uri": "https://localhost:8080/",
          "height": 618
        },
        "outputId": "de736530-5fc3-4628-8dd3-cdad47047f38"
      },
      "outputs": [
        {
          "output_type": "display_data",
          "data": {
            "text/plain": [
              "<Figure size 1440x720 with 4 Axes>"
            ],
            "image/png": "[encoded data removed]"
          },
          "metadata": {
            "needs_background": "light"
          }
        }
      ],
      "source": [
        "#plotting Histograms showing Total Sales of Store Types, Average Spending per Customer, Average Customer per Store Type and Average sales of Store Types using the mentioned formulae\n",
        "f, ax = plt.subplots(2, 2, figsize = (20,10))\n",
        "\n",
        "new_dataset.groupby(\"StoreType\")[\"Sales\"].sum().plot(kind = \"bar\", ax = ax[0,0], title = \"Total Sales of the StoreTypes\")\n",
        "new_dataset.groupby(\"StoreType\")[\"Avg_Customer_Sales\"].mean().plot(kind = \"bar\", ax = ax[0,1], title = \"Average Spending per Customer\")\n",
        "new_dataset.groupby(\"Assortment\")[\"Sales\"].sum().plot(kind = \"bar\", ax = ax[1,0], title = \"Average Customers per StoreType\")\n",
        "new_dataset.groupby(\"Assortment\")[\"Sales\"].mean().plot(kind = \"bar\", ax = ax[1,1], title = \"Average Sales of StoreTypes\")\n",
        "\n",
        "plt.subplots_adjust(hspace = 0.3)\n",
        "plt.show()"
      ]
    },
    {
      "cell_type": "markdown",
      "source": [
        "Promo and Promo2 with Sales"
      ],
      "metadata": {
        "id": "j2O6oqV0Qko0"
      }
    },
    {
      "cell_type": "code",
      "execution_count": 98,
      "metadata": {
        "id": "6rGdIYRzTTDD",
        "colab": {
          "base_uri": "https://localhost:8080/",
          "height": 738
        },
        "outputId": "600af458-71d2-4035-fafb-ed77d751953f"
      },
      "outputs": [
        {
          "output_type": "execute_result",
          "data": {
            "text/plain": [
              "<seaborn.axisgrid.FacetGrid at 0x7f6e91acfe50>"
            ]
          },
          "metadata": {},
          "execution_count": 98
        },
        {
          "output_type": "display_data",
          "data": {
            "text/plain": [
              "<Figure size 402.375x360 with 1 Axes>"
            ],
            "image/png": "[encoded data removed]"
          },
          "metadata": {
            "needs_background": "light"
          }
        },
        {
          "output_type": "display_data",
          "data": {
            "text/plain": [
              "<Figure size 405.75x360 with 1 Axes>"
            ],
            "image/png": "[encoded data removed]"
          },
          "metadata": {
            "needs_background": "light"
          }
        }
      ],
      "source": [
        "#plotting day wise sales with and without promo using factorplot\n",
        "sns.factorplot(data =new_dataset, x = \"DayOfWeek\", y = \"Sales\", hue = \"Promo\")\n",
        "sns.factorplot(data = new_dataset, x = \"DayOfWeek\", y = \"Sales\", hue = \"Promo2\")"
      ]
    },
    {
      "cell_type": "markdown",
      "source": [
        "Store Type Assortment level with Sales"
      ],
      "metadata": {
        "id": "HxebSAoAQxMP"
      }
    },
    {
      "cell_type": "code",
      "execution_count": 99,
      "metadata": {
        "id": "9n9FVuqbo7mD",
        "colab": {
          "base_uri": "https://localhost:8080/",
          "height": 296
        },
        "outputId": "f7ff85d2-22de-4341-9226-f733a5feb3c9"
      },
      "outputs": [
        {
          "output_type": "execute_result",
          "data": {
            "text/plain": [
              "<matplotlib.axes._subplots.AxesSubplot at 0x7f6e7dace450>"
            ]
          },
          "metadata": {},
          "execution_count": 99
        },
        {
          "output_type": "display_data",
          "data": {
            "text/plain": [
              "<Figure size 432x288 with 1 Axes>"
            ],
            "image/png": "[encoded data removed]"
          },
          "metadata": {
            "needs_background": "light"
          }
        }
      ],
      "source": [
        "#Plotting sales and assortment level for each store type using barplot\n",
        "sns.barplot(x=new_dataset[\"StoreType\"],y=new_dataset['Sales'],hue=new_dataset[\"Assortment\"])"
      ]
    },
    {
      "cell_type": "markdown",
      "source": [
        "State Holiday and Average sales"
      ],
      "metadata": {
        "id": "r3l7DI5vRZTg"
      }
    },
    {
      "cell_type": "code",
      "execution_count": 100,
      "metadata": {
        "id": "VAbp5qP3pAso",
        "colab": {
          "base_uri": "https://localhost:8080/",
          "height": 264
        },
        "outputId": "8394cb03-8851-4065-c208-3739228f743f"
      },
      "outputs": [
        {
          "output_type": "display_data",
          "data": {
            "text/plain": [
              "<Figure size 432x288 with 1 Axes>"
            ],
            "image/png": "[encoded data removed]"
          },
          "metadata": {}
        }
      ],
      "source": [
        "#Plotting percentage of Average sales in each state holiday using pie chart\n",
        "new_dataset.groupby(\"StateHoliday\")[\"Sales\"].mean().plot.pie(title='State holiday and avg_Sales', legend=True, autopct='%1.1f%%', shadow=True)\n",
        "plt.show()"
      ]
    },
    {
      "cell_type": "markdown",
      "source": [
        "## **Multivariate Analysis**"
      ],
      "metadata": {
        "id": "kjXDf5vGRyqi"
      }
    },
    {
      "cell_type": "code",
      "execution_count": null,
      "metadata": {
        "id": "5iw2ju2LSle5",
        "colab": {
          "base_uri": "https://localhost:8080/",
          "height": 748
        },
        "outputId": "3ad14070-81e9-40a2-af06-f8426947ed7e"
      },
      "outputs": [
        {
          "output_type": "execute_result",
          "data": {
            "text/plain": [
              "<matplotlib.axes._subplots.AxesSubplot at 0x7f7953779d50>"
            ]
          },
          "metadata": {},
          "execution_count": 82
        },
        {
          "output_type": "display_data",
          "data": {
            "text/plain": [
              "<Figure size 1440x720 with 2 Axes>"
            ],
            "image/png": "[encoded data removed]"
          },
          "metadata": {
            "needs_background": "light"
          }
        }
      ],
      "source": [
        "#Checking correlation matrix of the whole dataset using Correlation Heatmap\n",
        "f, ax = plt.subplots(figsize = (20, 10))\n",
        "sns.heatmap(new_dataset.corr(),ax = ax, annot=True, cmap=sns.diverging_palette(10, 133, as_cmap=True), linewidths=0.5)"
      ]
    },
    {
      "cell_type": "markdown",
      "metadata": {
        "id": "432KdIU0r8w3"
      },
      "source": [
        "**Feature Engineering**"
      ]
    },
    {
      "cell_type": "code",
      "execution_count": null,
      "metadata": {
        "id": "_yBjACWAoOUO",
        "colab": {
          "base_uri": "https://localhost:8080/",
          "height": 386
        },
        "outputId": "fef6ff6f-3157-4972-f8a7-56a871270e91"
      },
      "outputs": [
        {
          "output_type": "execute_result",
          "data": {
            "text/plain": [
              "   Store  DayOfWeek     Date  Sales  Customers  Promo StateHoliday  \\\n",
              "0      1          5  2015-07   5263        555      1            0   \n",
              "1      2          5  2015-07   6064        625      1            0   \n",
              "2      3          5  2015-07   8314        821      1            0   \n",
              "3      4          5  2015-07  13995       1498      1            0   \n",
              "4      5          5  2015-07   4822        559      1            0   \n",
              "\n",
              "   SchoolHoliday StoreType Assortment  ...  Promo2SinceYear    PromoInterval  \\\n",
              "0              1         c          a  ...              0.0                0   \n",
              "1              1         a          a  ...           2010.0  Jan,Apr,Jul,Oct   \n",
              "2              1         a          a  ...           2011.0  Jan,Apr,Jul,Oct   \n",
              "3              1         c          c  ...              0.0                0   \n",
              "4              1         a          a  ...              0.0                0   \n",
              "\n",
              "   Weekend  Year  Month  sqrt_Customers log_CompetitionDistance  \\\n",
              "0      0.0  2015      7       23.558438                7.146772   \n",
              "1      0.0  2015      7       25.000000                6.345636   \n",
              "2      0.0  2015      7       28.653098                9.556055   \n",
              "3      0.0  2015      7       38.704005                6.429719   \n",
              "4      0.0  2015      7       23.643181               10.305948   \n",
              "\n",
              "   sqrt_CompetitionDistance  sqrt_Sales  Avg_Customer_Sales  \n",
              "0                 35.637059   72.546537            9.482883  \n",
              "1                 23.874673   77.871689            9.702400  \n",
              "2                118.869677   91.181138           10.126675  \n",
              "3                 24.899799  118.300465            9.342457  \n",
              "4                172.945078   69.440622            8.626118  \n",
              "\n",
              "[5 rows x 25 columns]"
            ],
            "text/html": [
              "\n",
              "  <div id=\"df-24c61544-d7a8-43ae-800b-d6b50ada322d\">\n",
              "    <div class=\"colab-df-container\">\n",
              "      <div>\n",
              "<style scoped>\n",
              "    .dataframe tbody tr th:only-of-type {\n",
              "        vertical-align: middle;\n",
              "    }\n",
              "\n",
              "    .dataframe tbody tr th {\n",
              "        vertical-align: top;\n",
              "    }\n",
              "\n",
              "    .dataframe thead th {\n",
              "        text-align: right;\n",
              "    }\n",
              "</style>\n",
              "<table border=\"1\" class=\"dataframe\">\n",
              "  <thead>\n",
              "    <tr style=\"text-align: right;\">\n",
              "      <th></th>\n",
              "      <th>Store</th>\n",
              "      <th>DayOfWeek</th>\n",
              "      <th>Date</th>\n",
              "      <th>Sales</th>\n",
              "      <th>Customers</th>\n",
              "      <th>Promo</th>\n",
              "      <th>StateHoliday</th>\n",
              "      <th>SchoolHoliday</th>\n",
              "      <th>StoreType</th>\n",
              "      <th>Assortment</th>\n",
              "      <th>...</th>\n",
              "      <th>Promo2SinceYear</th>\n",
              "      <th>PromoInterval</th>\n",
              "      <th>Weekend</th>\n",
              "      <th>Year</th>\n",
              "      <th>Month</th>\n",
              "      <th>sqrt_Customers</th>\n",
              "      <th>log_CompetitionDistance</th>\n",
              "      <th>sqrt_CompetitionDistance</th>\n",
              "      <th>sqrt_Sales</th>\n",
              "      <th>Avg_Customer_Sales</th>\n",
              "    </tr>\n",
              "  </thead>\n",
              "  <tbody>\n",
              "    <tr>\n",
              "      <th>0</th>\n",
              "      <td>1</td>\n",
              "      <td>5</td>\n",
              "      <td>2015-07</td>\n",
              "      <td>5263</td>\n",
              "      <td>555</td>\n",
              "      <td>1</td>\n",
              "      <td>0</td>\n",
              "      <td>1</td>\n",
              "      <td>c</td>\n",
              "      <td>a</td>\n",
              "      <td>...</td>\n",
              "      <td>0.0</td>\n",
              "      <td>0</td>\n",
              "      <td>0.0</td>\n",
              "      <td>2015</td>\n",
              "      <td>7</td>\n",
              "      <td>23.558438</td>\n",
              "      <td>7.146772</td>\n",
              "      <td>35.637059</td>\n",
              "      <td>72.546537</td>\n",
              "      <td>9.482883</td>\n",
              "    </tr>\n",
              "    <tr>\n",
              "      <th>1</th>\n",
              "      <td>2</td>\n",
              "      <td>5</td>\n",
              "      <td>2015-07</td>\n",
              "      <td>6064</td>\n",
              "      <td>625</td>\n",
              "      <td>1</td>\n",
              "      <td>0</td>\n",
              "      <td>1</td>\n",
              "      <td>a</td>\n",
              "      <td>a</td>\n",
              "      <td>...</td>\n",
              "      <td>2010.0</td>\n",
              "      <td>Jan,Apr,Jul,Oct</td>\n",
              "      <td>0.0</td>\n",
              "      <td>2015</td>\n",
              "      <td>7</td>\n",
              "      <td>25.000000</td>\n",
              "      <td>6.345636</td>\n",
              "      <td>23.874673</td>\n",
              "      <td>77.871689</td>\n",
              "      <td>9.702400</td>\n",
              "    </tr>\n",
              "    <tr>\n",
              "      <th>2</th>\n",
              "      <td>3</td>\n",
              "      <td>5</td>\n",
              "      <td>2015-07</td>\n",
              "      <td>8314</td>\n",
              "      <td>821</td>\n",
              "      <td>1</td>\n",
              "      <td>0</td>\n",
              "      <td>1</td>\n",
              "      <td>a</td>\n",
              "      <td>a</td>\n",
              "      <td>...</td>\n",
              "      <td>2011.0</td>\n",
              "      <td>Jan,Apr,Jul,Oct</td>\n",
              "      <td>0.0</td>\n",
              "      <td>2015</td>\n",
              "      <td>7</td>\n",
              "      <td>28.653098</td>\n",
              "      <td>9.556055</td>\n",
              "      <td>118.869677</td>\n",
              "      <td>91.181138</td>\n",
              "      <td>10.126675</td>\n",
              "    </tr>\n",
              "    <tr>\n",
              "      <th>3</th>\n",
              "      <td>4</td>\n",
              "      <td>5</td>\n",
              "      <td>2015-07</td>\n",
              "      <td>13995</td>\n",
              "      <td>1498</td>\n",
              "      <td>1</td>\n",
              "      <td>0</td>\n",
              "      <td>1</td>\n",
              "      <td>c</td>\n",
              "      <td>c</td>\n",
              "      <td>...</td>\n",
              "      <td>0.0</td>\n",
              "      <td>0</td>\n",
              "      <td>0.0</td>\n",
              "      <td>2015</td>\n",
              "      <td>7</td>\n",
              "      <td>38.704005</td>\n",
              "      <td>6.429719</td>\n",
              "      <td>24.899799</td>\n",
              "      <td>118.300465</td>\n",
              "      <td>9.342457</td>\n",
              "    </tr>\n",
              "    <tr>\n",
              "      <th>4</th>\n",
              "      <td>5</td>\n",
              "      <td>5</td>\n",
              "      <td>2015-07</td>\n",
              "      <td>4822</td>\n",
              "      <td>559</td>\n",
              "      <td>1</td>\n",
              "      <td>0</td>\n",
              "      <td>1</td>\n",
              "      <td>a</td>\n",
              "      <td>a</td>\n",
              "      <td>...</td>\n",
              "      <td>0.0</td>\n",
              "      <td>0</td>\n",
              "      <td>0.0</td>\n",
              "      <td>2015</td>\n",
              "      <td>7</td>\n",
              "      <td>23.643181</td>\n",
              "      <td>10.305948</td>\n",
              "      <td>172.945078</td>\n",
              "      <td>69.440622</td>\n",
              "      <td>8.626118</td>\n",
              "    </tr>\n",
              "  </tbody>\n",
              "</table>\n",
              "<p>5 rows × 25 columns</p>\n",
              "</div>\n",
              "      <button class=\"colab-df-convert\" onclick=\"convertToInteractive('df-24c61544-d7a8-43ae-800b-d6b50ada322d')\"\n",
              "              title=\"Convert this dataframe to an interactive table.\"\n",
              "              style=\"display:none;\">\n",
              "        \n",
              "  <svg xmlns=\"http://www.w3.org/2000/svg\" height=\"24px\"viewBox=\"0 0 24 24\"\n",
              "       width=\"24px\">\n",
              "    <path d=\"M0 0h24v24H0V0z\" fill=\"none\"/>\n",
              "    <path d=\"M18.56 5.44l.94 2.06.94-2.06 2.06-.94-2.06-.94-.94-2.06-.94 2.06-2.06.94zm-11 1L8.5 8.5l.94-2.06 2.06-.94-2.06-.94L8.5 2.5l-.94 2.06-2.06.94zm10 10l.94 2.06.94-2.06 2.06-.94-2.06-.94-.94-2.06-.94 2.06-2.06.94z\"/><path d=\"M17.41 7.96l-1.37-1.37c-.4-.4-.92-.59-1.43-.59-.52 0-1.04.2-1.43.59L10.3 9.45l-7.72 7.72c-.78.78-.78 2.05 0 2.83L4 21.41c.39.39.9.59 1.41.59.51 0 1.02-.2 1.41-.59l7.78-7.78 2.81-2.81c.8-.78.8-2.07 0-2.86zM5.41 20L4 18.59l7.72-7.72 1.47 1.35L5.41 20z\"/>\n",
              "  </svg>\n",
              "      </button>\n",
              "      \n",
              "  <style>\n",
              "    .colab-df-container {\n",
              "      display:flex;\n",
              "      flex-wrap:wrap;\n",
              "      gap: 12px;\n",
              "    }\n",
              "\n",
              "    .colab-df-convert {\n",
              "      background-color: #E8F0FE;\n",
              "      border: none;\n",
              "      border-radius: 50%;\n",
              "      cursor: pointer;\n",
              "      display: none;\n",
              "      fill: #1967D2;\n",
              "      height: 32px;\n",
              "      padding: 0 0 0 0;\n",
              "      width: 32px;\n",
              "    }\n",
              "\n",
              "    .colab-df-convert:hover {\n",
              "      background-color: #E2EBFA;\n",
              "      box-shadow: 0px 1px 2px rgba(60, 64, 67, 0.3), 0px 1px 3px 1px rgba(60, 64, 67, 0.15);\n",
              "      fill: #174EA6;\n",
              "    }\n",
              "\n",
              "    [theme=dark] .colab-df-convert {\n",
              "      background-color: #3B4455;\n",
              "      fill: #D2E3FC;\n",
              "    }\n",
              "\n",
              "    [theme=dark] .colab-df-convert:hover {\n",
              "      background-color: #434B5C;\n",
              "      box-shadow: 0px 1px 3px 1px rgba(0, 0, 0, 0.15);\n",
              "      filter: drop-shadow(0px 1px 2px rgba(0, 0, 0, 0.3));\n",
              "      fill: #FFFFFF;\n",
              "    }\n",
              "  </style>\n",
              "\n",
              "      <script>\n",
              "        const buttonEl =\n",
              "          document.querySelector('#df-24c61544-d7a8-43ae-800b-d6b50ada322d button.colab-df-convert');\n",
              "        buttonEl.style.display =\n",
              "          google.colab.kernel.accessAllowed ? 'block' : 'none';\n",
              "\n",
              "        async function convertToInteractive(key) {\n",
              "          const element = document.querySelector('#df-24c61544-d7a8-43ae-800b-d6b50ada322d');\n",
              "          const dataTable =\n",
              "            await google.colab.kernel.invokeFunction('convertToInteractive',\n",
              "                                                     [key], {});\n",
              "          if (!dataTable) return;\n",
              "\n",
              "          const docLinkHtml = 'Like what you see? Visit the ' +\n",
              "            '<a target=\"_blank\" href=https://colab.research.google.com/notebooks/data_table.ipynb>data table notebook</a>'\n",
              "            + ' to learn more about interactive tables.';\n",
              "          element.innerHTML = '';\n",
              "          dataTable['output_type'] = 'display_data';\n",
              "          await google.colab.output.renderOutput(dataTable, element);\n",
              "          const docLink = document.createElement('div');\n",
              "          docLink.innerHTML = docLinkHtml;\n",
              "          element.appendChild(docLink);\n",
              "        }\n",
              "      </script>\n",
              "    </div>\n",
              "  </div>\n",
              "  "
            ]
          },
          "metadata": {},
          "execution_count": 83
        }
      ],
      "source": [
        "new_dataset.head()"
      ]
    },
    {
      "cell_type": "code",
      "execution_count": null,
      "metadata": {
        "id": "Rb9NZmAuoORZ"
      },
      "outputs": [],
      "source": [
        "# One hot encoding\n",
        "new_dataset= pd.get_dummies(new_dataset,columns=['StoreType','Assortment','Year'])"
      ]
    },
    {
      "cell_type": "code",
      "source": [
        "new_dataset.head()"
      ],
      "metadata": {
        "colab": {
          "base_uri": "https://localhost:8080/",
          "height": 386
        },
        "id": "Hcri021_2kwK",
        "outputId": "3d424627-d808-4398-b65a-a13a7128bbb0"
      },
      "execution_count": null,
      "outputs": [
        {
          "output_type": "execute_result",
          "data": {
            "text/plain": [
              "   Store  DayOfWeek     Date  Sales  Customers  Promo StateHoliday  \\\n",
              "0      1          5  2015-07   5263        555      1            0   \n",
              "1      2          5  2015-07   6064        625      1            0   \n",
              "2      3          5  2015-07   8314        821      1            0   \n",
              "3      4          5  2015-07  13995       1498      1            0   \n",
              "4      5          5  2015-07   4822        559      1            0   \n",
              "\n",
              "   SchoolHoliday  CompetitionDistance  CompetitionOpenSinceMonth  ...  \\\n",
              "0              1               1270.0                        9.0  ...   \n",
              "1              1                570.0                       11.0  ...   \n",
              "2              1              14130.0                       12.0  ...   \n",
              "3              1                620.0                        9.0  ...   \n",
              "4              1              29910.0                        4.0  ...   \n",
              "\n",
              "   StoreType_a  StoreType_b  StoreType_c  StoreType_d Assortment_a  \\\n",
              "0            0            0            1            0            1   \n",
              "1            1            0            0            0            1   \n",
              "2            1            0            0            0            1   \n",
              "3            0            0            1            0            0   \n",
              "4            1            0            0            0            1   \n",
              "\n",
              "   Assortment_b  Assortment_c  Year_2013  Year_2014  Year_2015  \n",
              "0             0             0          0          0          1  \n",
              "1             0             0          0          0          1  \n",
              "2             0             0          0          0          1  \n",
              "3             0             1          0          0          1  \n",
              "4             0             0          0          0          1  \n",
              "\n",
              "[5 rows x 32 columns]"
            ],
            "text/html": [
              "\n",
              "  <div id=\"df-54b0fede-55f6-4d48-a479-ce6b673793ee\">\n",
              "    <div class=\"colab-df-container\">\n",
              "      <div>\n",
              "<style scoped>\n",
              "    .dataframe tbody tr th:only-of-type {\n",
              "        vertical-align: middle;\n",
              "    }\n",
              "\n",
              "    .dataframe tbody tr th {\n",
              "        vertical-align: top;\n",
              "    }\n",
              "\n",
              "    .dataframe thead th {\n",
              "        text-align: right;\n",
              "    }\n",
              "</style>\n",
              "<table border=\"1\" class=\"dataframe\">\n",
              "  <thead>\n",
              "    <tr style=\"text-align: right;\">\n",
              "      <th></th>\n",
              "      <th>Store</th>\n",
              "      <th>DayOfWeek</th>\n",
              "      <th>Date</th>\n",
              "      <th>Sales</th>\n",
              "      <th>Customers</th>\n",
              "      <th>Promo</th>\n",
              "      <th>StateHoliday</th>\n",
              "      <th>SchoolHoliday</th>\n",
              "      <th>CompetitionDistance</th>\n",
              "      <th>CompetitionOpenSinceMonth</th>\n",
              "      <th>...</th>\n",
              "      <th>StoreType_a</th>\n",
              "      <th>StoreType_b</th>\n",
              "      <th>StoreType_c</th>\n",
              "      <th>StoreType_d</th>\n",
              "      <th>Assortment_a</th>\n",
              "      <th>Assortment_b</th>\n",
              "      <th>Assortment_c</th>\n",
              "      <th>Year_2013</th>\n",
              "      <th>Year_2014</th>\n",
              "      <th>Year_2015</th>\n",
              "    </tr>\n",
              "  </thead>\n",
              "  <tbody>\n",
              "    <tr>\n",
              "      <th>0</th>\n",
              "      <td>1</td>\n",
              "      <td>5</td>\n",
              "      <td>2015-07</td>\n",
              "      <td>5263</td>\n",
              "      <td>555</td>\n",
              "      <td>1</td>\n",
              "      <td>0</td>\n",
              "      <td>1</td>\n",
              "      <td>1270.0</td>\n",
              "      <td>9.0</td>\n",
              "      <td>...</td>\n",
              "      <td>0</td>\n",
              "      <td>0</td>\n",
              "      <td>1</td>\n",
              "      <td>0</td>\n",
              "      <td>1</td>\n",
              "      <td>0</td>\n",
              "      <td>0</td>\n",
              "      <td>0</td>\n",
              "      <td>0</td>\n",
              "      <td>1</td>\n",
              "    </tr>\n",
              "    <tr>\n",
              "      <th>1</th>\n",
              "      <td>2</td>\n",
              "      <td>5</td>\n",
              "      <td>2015-07</td>\n",
              "      <td>6064</td>\n",
              "      <td>625</td>\n",
              "      <td>1</td>\n",
              "      <td>0</td>\n",
              "      <td>1</td>\n",
              "      <td>570.0</td>\n",
              "      <td>11.0</td>\n",
              "      <td>...</td>\n",
              "      <td>1</td>\n",
              "      <td>0</td>\n",
              "      <td>0</td>\n",
              "      <td>0</td>\n",
              "      <td>1</td>\n",
              "      <td>0</td>\n",
              "      <td>0</td>\n",
              "      <td>0</td>\n",
              "      <td>0</td>\n",
              "      <td>1</td>\n",
              "    </tr>\n",
              "    <tr>\n",
              "      <th>2</th>\n",
              "      <td>3</td>\n",
              "      <td>5</td>\n",
              "      <td>2015-07</td>\n",
              "      <td>8314</td>\n",
              "      <td>821</td>\n",
              "      <td>1</td>\n",
              "      <td>0</td>\n",
              "      <td>1</td>\n",
              "      <td>14130.0</td>\n",
              "      <td>12.0</td>\n",
              "      <td>...</td>\n",
              "      <td>1</td>\n",
              "      <td>0</td>\n",
              "      <td>0</td>\n",
              "      <td>0</td>\n",
              "      <td>1</td>\n",
              "      <td>0</td>\n",
              "      <td>0</td>\n",
              "      <td>0</td>\n",
              "      <td>0</td>\n",
              "      <td>1</td>\n",
              "    </tr>\n",
              "    <tr>\n",
              "      <th>3</th>\n",
              "      <td>4</td>\n",
              "      <td>5</td>\n",
              "      <td>2015-07</td>\n",
              "      <td>13995</td>\n",
              "      <td>1498</td>\n",
              "      <td>1</td>\n",
              "      <td>0</td>\n",
              "      <td>1</td>\n",
              "      <td>620.0</td>\n",
              "      <td>9.0</td>\n",
              "      <td>...</td>\n",
              "      <td>0</td>\n",
              "      <td>0</td>\n",
              "      <td>1</td>\n",
              "      <td>0</td>\n",
              "      <td>0</td>\n",
              "      <td>0</td>\n",
              "      <td>1</td>\n",
              "      <td>0</td>\n",
              "      <td>0</td>\n",
              "      <td>1</td>\n",
              "    </tr>\n",
              "    <tr>\n",
              "      <th>4</th>\n",
              "      <td>5</td>\n",
              "      <td>5</td>\n",
              "      <td>2015-07</td>\n",
              "      <td>4822</td>\n",
              "      <td>559</td>\n",
              "      <td>1</td>\n",
              "      <td>0</td>\n",
              "      <td>1</td>\n",
              "      <td>29910.0</td>\n",
              "      <td>4.0</td>\n",
              "      <td>...</td>\n",
              "      <td>1</td>\n",
              "      <td>0</td>\n",
              "      <td>0</td>\n",
              "      <td>0</td>\n",
              "      <td>1</td>\n",
              "      <td>0</td>\n",
              "      <td>0</td>\n",
              "      <td>0</td>\n",
              "      <td>0</td>\n",
              "      <td>1</td>\n",
              "    </tr>\n",
              "  </tbody>\n",
              "</table>\n",
              "<p>5 rows × 32 columns</p>\n",
              "</div>\n",
              "      <button class=\"colab-df-convert\" onclick=\"convertToInteractive('df-54b0fede-55f6-4d48-a479-ce6b673793ee')\"\n",
              "              title=\"Convert this dataframe to an interactive table.\"\n",
              "              style=\"display:none;\">\n",
              "        \n",
              "  <svg xmlns=\"http://www.w3.org/2000/svg\" height=\"24px\"viewBox=\"0 0 24 24\"\n",
              "       width=\"24px\">\n",
              "    <path d=\"M0 0h24v24H0V0z\" fill=\"none\"/>\n",
              "    <path d=\"M18.56 5.44l.94 2.06.94-2.06 2.06-.94-2.06-.94-.94-2.06-.94 2.06-2.06.94zm-11 1L8.5 8.5l.94-2.06 2.06-.94-2.06-.94L8.5 2.5l-.94 2.06-2.06.94zm10 10l.94 2.06.94-2.06 2.06-.94-2.06-.94-.94-2.06-.94 2.06-2.06.94z\"/><path d=\"M17.41 7.96l-1.37-1.37c-.4-.4-.92-.59-1.43-.59-.52 0-1.04.2-1.43.59L10.3 9.45l-7.72 7.72c-.78.78-.78 2.05 0 2.83L4 21.41c.39.39.9.59 1.41.59.51 0 1.02-.2 1.41-.59l7.78-7.78 2.81-2.81c.8-.78.8-2.07 0-2.86zM5.41 20L4 18.59l7.72-7.72 1.47 1.35L5.41 20z\"/>\n",
              "  </svg>\n",
              "      </button>\n",
              "      \n",
              "  <style>\n",
              "    .colab-df-container {\n",
              "      display:flex;\n",
              "      flex-wrap:wrap;\n",
              "      gap: 12px;\n",
              "    }\n",
              "\n",
              "    .colab-df-convert {\n",
              "      background-color: #E8F0FE;\n",
              "      border: none;\n",
              "      border-radius: 50%;\n",
              "      cursor: pointer;\n",
              "      display: none;\n",
              "      fill: #1967D2;\n",
              "      height: 32px;\n",
              "      padding: 0 0 0 0;\n",
              "      width: 32px;\n",
              "    }\n",
              "\n",
              "    .colab-df-convert:hover {\n",
              "      background-color: #E2EBFA;\n",
              "      box-shadow: 0px 1px 2px rgba(60, 64, 67, 0.3), 0px 1px 3px 1px rgba(60, 64, 67, 0.15);\n",
              "      fill: #174EA6;\n",
              "    }\n",
              "\n",
              "    [theme=dark] .colab-df-convert {\n",
              "      background-color: #3B4455;\n",
              "      fill: #D2E3FC;\n",
              "    }\n",
              "\n",
              "    [theme=dark] .colab-df-convert:hover {\n",
              "      background-color: #434B5C;\n",
              "      box-shadow: 0px 1px 3px 1px rgba(0, 0, 0, 0.15);\n",
              "      filter: drop-shadow(0px 1px 2px rgba(0, 0, 0, 0.3));\n",
              "      fill: #FFFFFF;\n",
              "    }\n",
              "  </style>\n",
              "\n",
              "      <script>\n",
              "        const buttonEl =\n",
              "          document.querySelector('#df-54b0fede-55f6-4d48-a479-ce6b673793ee button.colab-df-convert');\n",
              "        buttonEl.style.display =\n",
              "          google.colab.kernel.accessAllowed ? 'block' : 'none';\n",
              "\n",
              "        async function convertToInteractive(key) {\n",
              "          const element = document.querySelector('#df-54b0fede-55f6-4d48-a479-ce6b673793ee');\n",
              "          const dataTable =\n",
              "            await google.colab.kernel.invokeFunction('convertToInteractive',\n",
              "                                                     [key], {});\n",
              "          if (!dataTable) return;\n",
              "\n",
              "          const docLinkHtml = 'Like what you see? Visit the ' +\n",
              "            '<a target=\"_blank\" href=https://colab.research.google.com/notebooks/data_table.ipynb>data table notebook</a>'\n",
              "            + ' to learn more about interactive tables.';\n",
              "          element.innerHTML = '';\n",
              "          dataTable['output_type'] = 'display_data';\n",
              "          await google.colab.output.renderOutput(dataTable, element);\n",
              "          const docLink = document.createElement('div');\n",
              "          docLink.innerHTML = docLinkHtml;\n",
              "          element.appendChild(docLink);\n",
              "        }\n",
              "      </script>\n",
              "    </div>\n",
              "  </div>\n",
              "  "
            ]
          },
          "metadata": {},
          "execution_count": 85
        }
      ]
    },
    {
      "cell_type": "code",
      "execution_count": null,
      "metadata": {
        "id": "6LBdtzxd54NU"
      },
      "outputs": [],
      "source": [
        "from statsmodels.stats.outliers_influence import variance_inflation_factor\n",
        "def calc_vif(X):\n",
        "\n",
        "    # Calculating VIF\n",
        "    vif = pd.DataFrame()\n",
        "    vif[\"variables\"] = X.columns\n",
        "    vif[\"VIF\"] = [variance_inflation_factor(X.values, i) for i in range(X.shape[1])]\n",
        "\n",
        "    return(vif)"
      ]
    },
    {
      "cell_type": "code",
      "execution_count": null,
      "metadata": {
        "id": "YpE29queoOOx",
        "colab": {
          "base_uri": "https://localhost:8080/",
          "height": 833
        },
        "outputId": "5920a477-f285-48ca-acb3-ddb9662fb8fb"
      },
      "outputs": [
        {
          "output_type": "execute_result",
          "data": {
            "text/plain": [
              "                    variables           VIF\n",
              "0                   DayOfWeek  1.125964e+00\n",
              "1                   Customers  2.978450e+01\n",
              "2                       Promo  1.375262e+00\n",
              "3               SchoolHoliday  1.034508e+00\n",
              "4         CompetitionDistance  3.044894e+01\n",
              "5   CompetitionOpenSinceMonth  1.015617e+00\n",
              "6    CompetitionOpenSinceYear  1.017601e+00\n",
              "7                      Promo2  8.000669e+05\n",
              "8             Promo2SinceWeek  2.560855e+00\n",
              "9             Promo2SinceYear  7.995095e+05\n",
              "10                      Month  1.128075e+00\n",
              "11             sqrt_Customers  2.930796e+01\n",
              "12    log_CompetitionDistance  2.004528e+01\n",
              "13   sqrt_CompetitionDistance  7.965592e+01\n",
              "14         Avg_Customer_Sales  2.226669e+00\n",
              "15                StoreType_a           inf\n",
              "16                StoreType_b           inf\n",
              "17                StoreType_c           inf\n",
              "18                StoreType_d           inf\n",
              "19               Assortment_a           inf\n",
              "20               Assortment_b           inf\n",
              "21               Assortment_c           inf\n",
              "22                  Year_2013           inf\n",
              "23                  Year_2014           inf\n",
              "24                  Year_2015           inf"
            ],
            "text/html": [
              "\n",
              "  <div id=\"df-1225cb26-20ae-4b6b-bcaf-9780b1b4b63c\">\n",
              "    <div class=\"colab-df-container\">\n",
              "      <div>\n",
              "<style scoped>\n",
              "    .dataframe tbody tr th:only-of-type {\n",
              "        vertical-align: middle;\n",
              "    }\n",
              "\n",
              "    .dataframe tbody tr th {\n",
              "        vertical-align: top;\n",
              "    }\n",
              "\n",
              "    .dataframe thead th {\n",
              "        text-align: right;\n",
              "    }\n",
              "</style>\n",
              "<table border=\"1\" class=\"dataframe\">\n",
              "  <thead>\n",
              "    <tr style=\"text-align: right;\">\n",
              "      <th></th>\n",
              "      <th>variables</th>\n",
              "      <th>VIF</th>\n",
              "    </tr>\n",
              "  </thead>\n",
              "  <tbody>\n",
              "    <tr>\n",
              "      <th>0</th>\n",
              "      <td>DayOfWeek</td>\n",
              "      <td>1.125964e+00</td>\n",
              "    </tr>\n",
              "    <tr>\n",
              "      <th>1</th>\n",
              "      <td>Customers</td>\n",
              "      <td>2.978450e+01</td>\n",
              "    </tr>\n",
              "    <tr>\n",
              "      <th>2</th>\n",
              "      <td>Promo</td>\n",
              "      <td>1.375262e+00</td>\n",
              "    </tr>\n",
              "    <tr>\n",
              "      <th>3</th>\n",
              "      <td>SchoolHoliday</td>\n",
              "      <td>1.034508e+00</td>\n",
              "    </tr>\n",
              "    <tr>\n",
              "      <th>4</th>\n",
              "      <td>CompetitionDistance</td>\n",
              "      <td>3.044894e+01</td>\n",
              "    </tr>\n",
              "    <tr>\n",
              "      <th>5</th>\n",
              "      <td>CompetitionOpenSinceMonth</td>\n",
              "      <td>1.015617e+00</td>\n",
              "    </tr>\n",
              "    <tr>\n",
              "      <th>6</th>\n",
              "      <td>CompetitionOpenSinceYear</td>\n",
              "      <td>1.017601e+00</td>\n",
              "    </tr>\n",
              "    <tr>\n",
              "      <th>7</th>\n",
              "      <td>Promo2</td>\n",
              "      <td>8.000669e+05</td>\n",
              "    </tr>\n",
              "    <tr>\n",
              "      <th>8</th>\n",
              "      <td>Promo2SinceWeek</td>\n",
              "      <td>2.560855e+00</td>\n",
              "    </tr>\n",
              "    <tr>\n",
              "      <th>9</th>\n",
              "      <td>Promo2SinceYear</td>\n",
              "      <td>7.995095e+05</td>\n",
              "    </tr>\n",
              "    <tr>\n",
              "      <th>10</th>\n",
              "      <td>Month</td>\n",
              "      <td>1.128075e+00</td>\n",
              "    </tr>\n",
              "    <tr>\n",
              "      <th>11</th>\n",
              "      <td>sqrt_Customers</td>\n",
              "      <td>2.930796e+01</td>\n",
              "    </tr>\n",
              "    <tr>\n",
              "      <th>12</th>\n",
              "      <td>log_CompetitionDistance</td>\n",
              "      <td>2.004528e+01</td>\n",
              "    </tr>\n",
              "    <tr>\n",
              "      <th>13</th>\n",
              "      <td>sqrt_CompetitionDistance</td>\n",
              "      <td>7.965592e+01</td>\n",
              "    </tr>\n",
              "    <tr>\n",
              "      <th>14</th>\n",
              "      <td>Avg_Customer_Sales</td>\n",
              "      <td>2.226669e+00</td>\n",
              "    </tr>\n",
              "    <tr>\n",
              "      <th>15</th>\n",
              "      <td>StoreType_a</td>\n",
              "      <td>inf</td>\n",
              "    </tr>\n",
              "    <tr>\n",
              "      <th>16</th>\n",
              "      <td>StoreType_b</td>\n",
              "      <td>inf</td>\n",
              "    </tr>\n",
              "    <tr>\n",
              "      <th>17</th>\n",
              "      <td>StoreType_c</td>\n",
              "      <td>inf</td>\n",
              "    </tr>\n",
              "    <tr>\n",
              "      <th>18</th>\n",
              "      <td>StoreType_d</td>\n",
              "      <td>inf</td>\n",
              "    </tr>\n",
              "    <tr>\n",
              "      <th>19</th>\n",
              "      <td>Assortment_a</td>\n",
              "      <td>inf</td>\n",
              "    </tr>\n",
              "    <tr>\n",
              "      <th>20</th>\n",
              "      <td>Assortment_b</td>\n",
              "      <td>inf</td>\n",
              "    </tr>\n",
              "    <tr>\n",
              "      <th>21</th>\n",
              "      <td>Assortment_c</td>\n",
              "      <td>inf</td>\n",
              "    </tr>\n",
              "    <tr>\n",
              "      <th>22</th>\n",
              "      <td>Year_2013</td>\n",
              "      <td>inf</td>\n",
              "    </tr>\n",
              "    <tr>\n",
              "      <th>23</th>\n",
              "      <td>Year_2014</td>\n",
              "      <td>inf</td>\n",
              "    </tr>\n",
              "    <tr>\n",
              "      <th>24</th>\n",
              "      <td>Year_2015</td>\n",
              "      <td>inf</td>\n",
              "    </tr>\n",
              "  </tbody>\n",
              "</table>\n",
              "</div>\n",
              "      <button class=\"colab-df-convert\" onclick=\"convertToInteractive('df-1225cb26-20ae-4b6b-bcaf-9780b1b4b63c')\"\n",
              "              title=\"Convert this dataframe to an interactive table.\"\n",
              "              style=\"display:none;\">\n",
              "        \n",
              "  <svg xmlns=\"http://www.w3.org/2000/svg\" height=\"24px\"viewBox=\"0 0 24 24\"\n",
              "       width=\"24px\">\n",
              "    <path d=\"M0 0h24v24H0V0z\" fill=\"none\"/>\n",
              "    <path d=\"M18.56 5.44l.94 2.06.94-2.06 2.06-.94-2.06-.94-.94-2.06-.94 2.06-2.06.94zm-11 1L8.5 8.5l.94-2.06 2.06-.94-2.06-.94L8.5 2.5l-.94 2.06-2.06.94zm10 10l.94 2.06.94-2.06 2.06-.94-2.06-.94-.94-2.06-.94 2.06-2.06.94z\"/><path d=\"M17.41 7.96l-1.37-1.37c-.4-.4-.92-.59-1.43-.59-.52 0-1.04.2-1.43.59L10.3 9.45l-7.72 7.72c-.78.78-.78 2.05 0 2.83L4 21.41c.39.39.9.59 1.41.59.51 0 1.02-.2 1.41-.59l7.78-7.78 2.81-2.81c.8-.78.8-2.07 0-2.86zM5.41 20L4 18.59l7.72-7.72 1.47 1.35L5.41 20z\"/>\n",
              "  </svg>\n",
              "      </button>\n",
              "      \n",
              "  <style>\n",
              "    .colab-df-container {\n",
              "      display:flex;\n",
              "      flex-wrap:wrap;\n",
              "      gap: 12px;\n",
              "    }\n",
              "\n",
              "    .colab-df-convert {\n",
              "      background-color: #E8F0FE;\n",
              "      border: none;\n",
              "      border-radius: 50%;\n",
              "      cursor: pointer;\n",
              "      display: none;\n",
              "      fill: #1967D2;\n",
              "      height: 32px;\n",
              "      padding: 0 0 0 0;\n",
              "      width: 32px;\n",
              "    }\n",
              "\n",
              "    .colab-df-convert:hover {\n",
              "      background-color: #E2EBFA;\n",
              "      box-shadow: 0px 1px 2px rgba(60, 64, 67, 0.3), 0px 1px 3px 1px rgba(60, 64, 67, 0.15);\n",
              "      fill: #174EA6;\n",
              "    }\n",
              "\n",
              "    [theme=dark] .colab-df-convert {\n",
              "      background-color: #3B4455;\n",
              "      fill: #D2E3FC;\n",
              "    }\n",
              "\n",
              "    [theme=dark] .colab-df-convert:hover {\n",
              "      background-color: #434B5C;\n",
              "      box-shadow: 0px 1px 3px 1px rgba(0, 0, 0, 0.15);\n",
              "      filter: drop-shadow(0px 1px 2px rgba(0, 0, 0, 0.3));\n",
              "      fill: #FFFFFF;\n",
              "    }\n",
              "  </style>\n",
              "\n",
              "      <script>\n",
              "        const buttonEl =\n",
              "          document.querySelector('#df-1225cb26-20ae-4b6b-bcaf-9780b1b4b63c button.colab-df-convert');\n",
              "        buttonEl.style.display =\n",
              "          google.colab.kernel.accessAllowed ? 'block' : 'none';\n",
              "\n",
              "        async function convertToInteractive(key) {\n",
              "          const element = document.querySelector('#df-1225cb26-20ae-4b6b-bcaf-9780b1b4b63c');\n",
              "          const dataTable =\n",
              "            await google.colab.kernel.invokeFunction('convertToInteractive',\n",
              "                                                     [key], {});\n",
              "          if (!dataTable) return;\n",
              "\n",
              "          const docLinkHtml = 'Like what you see? Visit the ' +\n",
              "            '<a target=\"_blank\" href=https://colab.research.google.com/notebooks/data_table.ipynb>data table notebook</a>'\n",
              "            + ' to learn more about interactive tables.';\n",
              "          element.innerHTML = '';\n",
              "          dataTable['output_type'] = 'display_data';\n",
              "          await google.colab.output.renderOutput(dataTable, element);\n",
              "          const docLink = document.createElement('div');\n",
              "          docLink.innerHTML = docLinkHtml;\n",
              "          element.appendChild(docLink);\n",
              "        }\n",
              "      </script>\n",
              "    </div>\n",
              "  </div>\n",
              "  "
            ]
          },
          "metadata": {},
          "execution_count": 87
        }
      ],
      "source": [
        "calc_vif(new_dataset[[i for i in new_dataset.describe().columns if i not in ['Store','Sales','Weekend','sqrt_Sales']]])"
      ]
    },
    {
      "cell_type": "code",
      "execution_count": null,
      "metadata": {
        "id": "LhKw926JoOHv",
        "colab": {
          "base_uri": "https://localhost:8080/"
        },
        "outputId": "597b0b71-f08a-492c-ba55-9ad8e679e4f4"
      },
      "outputs": [
        {
          "output_type": "stream",
          "name": "stdout",
          "text": [
            "<class 'pandas.core.frame.DataFrame'>\n",
            "Int64Index: 844338 entries, 0 to 1017190\n",
            "Data columns (total 32 columns):\n",
            " #   Column                     Non-Null Count   Dtype  \n",
            "---  ------                     --------------   -----  \n",
            " 0   Store                      844338 non-null  int64  \n",
            " 1   DayOfWeek                  844338 non-null  int64  \n",
            " 2   Date                       844338 non-null  object \n",
            " 3   Sales                      844338 non-null  int64  \n",
            " 4   Customers                  844338 non-null  int64  \n",
            " 5   Promo                      844338 non-null  int64  \n",
            " 6   StateHoliday               844338 non-null  object \n",
            " 7   SchoolHoliday              844338 non-null  int64  \n",
            " 8   CompetitionDistance        844338 non-null  float64\n",
            " 9   CompetitionOpenSinceMonth  844338 non-null  float64\n",
            " 10  CompetitionOpenSinceYear   844338 non-null  float64\n",
            " 11  Promo2                     844338 non-null  int64  \n",
            " 12  Promo2SinceWeek            844338 non-null  float64\n",
            " 13  Promo2SinceYear            844338 non-null  float64\n",
            " 14  PromoInterval              844338 non-null  object \n",
            " 15  Weekend                    703410 non-null  float64\n",
            " 16  Month                      844338 non-null  int64  \n",
            " 17  sqrt_Customers             844338 non-null  float64\n",
            " 18  log_CompetitionDistance    844338 non-null  float64\n",
            " 19  sqrt_CompetitionDistance   844338 non-null  float64\n",
            " 20  sqrt_Sales                 844338 non-null  float64\n",
            " 21  Avg_Customer_Sales         844338 non-null  float64\n",
            " 22  StoreType_a                844338 non-null  uint8  \n",
            " 23  StoreType_b                844338 non-null  uint8  \n",
            " 24  StoreType_c                844338 non-null  uint8  \n",
            " 25  StoreType_d                844338 non-null  uint8  \n",
            " 26  Assortment_a               844338 non-null  uint8  \n",
            " 27  Assortment_b               844338 non-null  uint8  \n",
            " 28  Assortment_c               844338 non-null  uint8  \n",
            " 29  Year_2013                  844338 non-null  uint8  \n",
            " 30  Year_2014                  844338 non-null  uint8  \n",
            " 31  Year_2015                  844338 non-null  uint8  \n",
            "dtypes: float64(11), int64(8), object(3), uint8(10)\n",
            "memory usage: 188.5+ MB\n"
          ]
        }
      ],
      "source": [
        "new_dataset.info()"
      ]
    },
    {
      "cell_type": "code",
      "execution_count": null,
      "metadata": {
        "id": "ruRdedqNoOE9"
      },
      "outputs": [],
      "source": [
        "new_dataset[\"StateHoliday\"] =new_dataset[\"StateHoliday\"].map({0: 0, \"0\": 0, \"a\": 1, \"b\": 1, \"c\": 1})"
      ]
    },
    {
      "cell_type": "code",
      "execution_count": null,
      "metadata": {
        "id": "0MTUoJ-4oOCO"
      },
      "outputs": [],
      "source": [
        "y= new_dataset[\"sqrt_Sales\"]\n",
        "x1= new_dataset[['DayOfWeek','log_CompetitionDistance','sqrt_Customers','StateHoliday', 'SchoolHoliday','Promo','Promo2','StoreType_a', 'StoreType_b',\n",
        "       'StoreType_c', 'StoreType_d','Assortment_a', 'Assortment_b',\n",
        "       'Assortment_c', 'Year_2013', 'Year_2014', 'Year_2015','CompetitionOpenSinceMonth', 'CompetitionOpenSinceYear','Promo2SinceWeek']]"
      ]
    },
    {
      "cell_type": "code",
      "source": [
        "# X_train, X_test, y_train, y_test = train_test_split(X, y, random_state = 1)\n",
        "# std = StandardScaler()\n",
        "# X_train_std = std.fit_transform(X_train)\n",
        "# X_test_std = std.transform(X_test)"
      ],
      "metadata": {
        "id": "gdTt00Offvu_"
      },
      "execution_count": null,
      "outputs": []
    },
    {
      "cell_type": "code",
      "execution_count": null,
      "metadata": {
        "id": "WtRwqEJToN-8",
        "colab": {
          "base_uri": "https://localhost:8080/",
          "height": 877
        },
        "outputId": "03dd6635-8cb2-4380-821a-e7d0bd901e46"
      },
      "outputs": [
        {
          "output_type": "execute_result",
          "data": {
            "text/plain": [
              "<class 'statsmodels.iolib.summary.Summary'>\n",
              "\"\"\"\n",
              "                            OLS Regression Results                            \n",
              "==============================================================================\n",
              "Dep. Variable:             sqrt_Sales   R-squared:                       0.863\n",
              "Model:                            OLS   Adj. R-squared:                  0.863\n",
              "Method:                 Least Squares   F-statistic:                 3.127e+05\n",
              "Date:                Sun, 27 Nov 2022   Prob (F-statistic):               0.00\n",
              "Time:                        06:20:40   Log-Likelihood:            -2.7739e+06\n",
              "No. Observations:              844338   AIC:                         5.548e+06\n",
              "Df Residuals:                  844320   BIC:                         5.548e+06\n",
              "Df Model:                          17                                         \n",
              "Covariance Type:            nonrobust                                         \n",
              "=============================================================================================\n",
              "                                coef    std err          t      P>|t|      [0.025      0.975]\n",
              "---------------------------------------------------------------------------------------------\n",
              "const                        24.8771      1.395     17.831      0.000      22.143      27.612\n",
              "DayOfWeek                    -0.1074      0.004    -24.840      0.000      -0.116      -0.099\n",
              "log_CompetitionDistance       1.5960      0.005    320.106      0.000       1.586       1.606\n",
              "sqrt_Customers                2.7270      0.001   1973.339      0.000       2.724       2.730\n",
              "StateHoliday                  0.7250      0.216      3.357      0.001       0.302       1.148\n",
              "SchoolHoliday                 0.3583      0.018     19.897      0.000       0.323       0.394\n",
              "Promo                         5.9921      0.015    393.886      0.000       5.962       6.022\n",
              "Promo2                        1.4403      0.022     64.794      0.000       1.397       1.484\n",
              "StoreType_a                   8.2318      0.349     23.588      0.000       7.548       8.916\n",
              "StoreType_b                  -5.6270      0.355    -15.854      0.000      -6.323      -4.931\n",
              "StoreType_c                   7.2875      0.349     20.888      0.000       6.604       7.971\n",
              "StoreType_d                  14.9848      0.350     42.847      0.000      14.299      15.670\n",
              "Assortment_a                 14.7857      0.466     31.713      0.000      13.872      15.700\n",
              "Assortment_b                 -6.1208      0.469    -13.045      0.000      -7.040      -5.201\n",
              "Assortment_c                 16.2122      0.468     34.673      0.000      15.296      17.129\n",
              "Year_2013                     7.5217      0.465     16.171      0.000       6.610       8.433\n",
              "Year_2014                     8.1054      0.465     17.424      0.000       7.194       9.017\n",
              "Year_2015                     9.2500      0.465     19.885      0.000       8.338      10.162\n",
              "CompetitionOpenSinceMonth    -0.0395      0.003    -15.501      0.000      -0.044      -0.035\n",
              "CompetitionOpenSinceYear     -0.0326      0.001    -24.517      0.000      -0.035      -0.030\n",
              "Promo2SinceWeek               0.0543      0.001     76.580      0.000       0.053       0.056\n",
              "==============================================================================\n",
              "Omnibus:                    51355.070   Durbin-Watson:                   1.737\n",
              "Prob(Omnibus):                  0.000   Jarque-Bera (JB):           126267.687\n",
              "Skew:                           0.369   Prob(JB):                         0.00\n",
              "Kurtosis:                       4.745   Cond. No.                     1.66e+19\n",
              "==============================================================================\n",
              "\n",
              "Notes:\n",
              "[1] Standard Errors assume that the covariance matrix of the errors is correctly specified.\n",
              "[2] The smallest eigenvalue is 1.23e-26. This might indicate that there are\n",
              "strong multicollinearity problems or that the design matrix is singular.\n",
              "\"\"\""
            ],
            "text/html": [
              "<table class=\"simpletable\">\n",
              "<caption>OLS Regression Results</caption>\n",
              "<tr>\n",
              "  <th>Dep. Variable:</th>       <td>sqrt_Sales</td>    <th>  R-squared:         </th>  <td>   0.863</td>  \n",
              "</tr>\n",
              "<tr>\n",
              "  <th>Model:</th>                   <td>OLS</td>       <th>  Adj. R-squared:    </th>  <td>   0.863</td>  \n",
              "</tr>\n",
              "<tr>\n",
              "  <th>Method:</th>             <td>Least Squares</td>  <th>  F-statistic:       </th>  <td>3.127e+05</td> \n",
              "</tr>\n",
              "<tr>\n",
              "  <th>Date:</th>             <td>Sun, 27 Nov 2022</td> <th>  Prob (F-statistic):</th>   <td>  0.00</td>   \n",
              "</tr>\n",
              "<tr>\n",
              "  <th>Time:</th>                 <td>06:20:40</td>     <th>  Log-Likelihood:    </th> <td>-2.7739e+06</td>\n",
              "</tr>\n",
              "<tr>\n",
              "  <th>No. Observations:</th>      <td>844338</td>      <th>  AIC:               </th>  <td>5.548e+06</td> \n",
              "</tr>\n",
              "<tr>\n",
              "  <th>Df Residuals:</th>          <td>844320</td>      <th>  BIC:               </th>  <td>5.548e+06</td> \n",
              "</tr>\n",
              "<tr>\n",
              "  <th>Df Model:</th>              <td>    17</td>      <th>                     </th>      <td> </td>     \n",
              "</tr>\n",
              "<tr>\n",
              "  <th>Covariance Type:</th>      <td>nonrobust</td>    <th>                     </th>      <td> </td>     \n",
              "</tr>\n",
              "</table>\n",
              "<table class=\"simpletable\">\n",
              "<tr>\n",
              "              <td></td>                 <th>coef</th>     <th>std err</th>      <th>t</th>      <th>P>|t|</th>  <th>[0.025</th>    <th>0.975]</th>  \n",
              "</tr>\n",
              "<tr>\n",
              "  <th>const</th>                     <td>   24.8771</td> <td>    1.395</td> <td>   17.831</td> <td> 0.000</td> <td>   22.143</td> <td>   27.612</td>\n",
              "</tr>\n",
              "<tr>\n",
              "  <th>DayOfWeek</th>                 <td>   -0.1074</td> <td>    0.004</td> <td>  -24.840</td> <td> 0.000</td> <td>   -0.116</td> <td>   -0.099</td>\n",
              "</tr>\n",
              "<tr>\n",
              "  <th>log_CompetitionDistance</th>   <td>    1.5960</td> <td>    0.005</td> <td>  320.106</td> <td> 0.000</td> <td>    1.586</td> <td>    1.606</td>\n",
              "</tr>\n",
              "<tr>\n",
              "  <th>sqrt_Customers</th>            <td>    2.7270</td> <td>    0.001</td> <td> 1973.339</td> <td> 0.000</td> <td>    2.724</td> <td>    2.730</td>\n",
              "</tr>\n",
              "<tr>\n",
              "  <th>StateHoliday</th>              <td>    0.7250</td> <td>    0.216</td> <td>    3.357</td> <td> 0.001</td> <td>    0.302</td> <td>    1.148</td>\n",
              "</tr>\n",
              "<tr>\n",
              "  <th>SchoolHoliday</th>             <td>    0.3583</td> <td>    0.018</td> <td>   19.897</td> <td> 0.000</td> <td>    0.323</td> <td>    0.394</td>\n",
              "</tr>\n",
              "<tr>\n",
              "  <th>Promo</th>                     <td>    5.9921</td> <td>    0.015</td> <td>  393.886</td> <td> 0.000</td> <td>    5.962</td> <td>    6.022</td>\n",
              "</tr>\n",
              "<tr>\n",
              "  <th>Promo2</th>                    <td>    1.4403</td> <td>    0.022</td> <td>   64.794</td> <td> 0.000</td> <td>    1.397</td> <td>    1.484</td>\n",
              "</tr>\n",
              "<tr>\n",
              "  <th>StoreType_a</th>               <td>    8.2318</td> <td>    0.349</td> <td>   23.588</td> <td> 0.000</td> <td>    7.548</td> <td>    8.916</td>\n",
              "</tr>\n",
              "<tr>\n",
              "  <th>StoreType_b</th>               <td>   -5.6270</td> <td>    0.355</td> <td>  -15.854</td> <td> 0.000</td> <td>   -6.323</td> <td>   -4.931</td>\n",
              "</tr>\n",
              "<tr>\n",
              "  <th>StoreType_c</th>               <td>    7.2875</td> <td>    0.349</td> <td>   20.888</td> <td> 0.000</td> <td>    6.604</td> <td>    7.971</td>\n",
              "</tr>\n",
              "<tr>\n",
              "  <th>StoreType_d</th>               <td>   14.9848</td> <td>    0.350</td> <td>   42.847</td> <td> 0.000</td> <td>   14.299</td> <td>   15.670</td>\n",
              "</tr>\n",
              "<tr>\n",
              "  <th>Assortment_a</th>              <td>   14.7857</td> <td>    0.466</td> <td>   31.713</td> <td> 0.000</td> <td>   13.872</td> <td>   15.700</td>\n",
              "</tr>\n",
              "<tr>\n",
              "  <th>Assortment_b</th>              <td>   -6.1208</td> <td>    0.469</td> <td>  -13.045</td> <td> 0.000</td> <td>   -7.040</td> <td>   -5.201</td>\n",
              "</tr>\n",
              "<tr>\n",
              "  <th>Assortment_c</th>              <td>   16.2122</td> <td>    0.468</td> <td>   34.673</td> <td> 0.000</td> <td>   15.296</td> <td>   17.129</td>\n",
              "</tr>\n",
              "<tr>\n",
              "  <th>Year_2013</th>                 <td>    7.5217</td> <td>    0.465</td> <td>   16.171</td> <td> 0.000</td> <td>    6.610</td> <td>    8.433</td>\n",
              "</tr>\n",
              "<tr>\n",
              "  <th>Year_2014</th>                 <td>    8.1054</td> <td>    0.465</td> <td>   17.424</td> <td> 0.000</td> <td>    7.194</td> <td>    9.017</td>\n",
              "</tr>\n",
              "<tr>\n",
              "  <th>Year_2015</th>                 <td>    9.2500</td> <td>    0.465</td> <td>   19.885</td> <td> 0.000</td> <td>    8.338</td> <td>   10.162</td>\n",
              "</tr>\n",
              "<tr>\n",
              "  <th>CompetitionOpenSinceMonth</th> <td>   -0.0395</td> <td>    0.003</td> <td>  -15.501</td> <td> 0.000</td> <td>   -0.044</td> <td>   -0.035</td>\n",
              "</tr>\n",
              "<tr>\n",
              "  <th>CompetitionOpenSinceYear</th>  <td>   -0.0326</td> <td>    0.001</td> <td>  -24.517</td> <td> 0.000</td> <td>   -0.035</td> <td>   -0.030</td>\n",
              "</tr>\n",
              "<tr>\n",
              "  <th>Promo2SinceWeek</th>           <td>    0.0543</td> <td>    0.001</td> <td>   76.580</td> <td> 0.000</td> <td>    0.053</td> <td>    0.056</td>\n",
              "</tr>\n",
              "</table>\n",
              "<table class=\"simpletable\">\n",
              "<tr>\n",
              "  <th>Omnibus:</th>       <td>51355.070</td> <th>  Durbin-Watson:     </th>  <td>   1.737</td> \n",
              "</tr>\n",
              "<tr>\n",
              "  <th>Prob(Omnibus):</th>  <td> 0.000</td>   <th>  Jarque-Bera (JB):  </th> <td>126267.687</td>\n",
              "</tr>\n",
              "<tr>\n",
              "  <th>Skew:</th>           <td> 0.369</td>   <th>  Prob(JB):          </th>  <td>    0.00</td> \n",
              "</tr>\n",
              "<tr>\n",
              "  <th>Kurtosis:</th>       <td> 4.745</td>   <th>  Cond. No.          </th>  <td>1.66e+19</td> \n",
              "</tr>\n",
              "</table><br/><br/>Notes:<br/>[1] Standard Errors assume that the covariance matrix of the errors is correctly specified.<br/>[2] The smallest eigenvalue is 1.23e-26. This might indicate that there are<br/>strong multicollinearity problems or that the design matrix is singular."
            ]
          },
          "metadata": {},
          "execution_count": 92
        }
      ],
      "source": [
        "x=sm.add_constant(x1)\n",
        "results = sm.OLS(y,x).fit()\n",
        "results.summary()"
      ]
    },
    {
      "cell_type": "code",
      "execution_count": null,
      "metadata": {
        "id": "6knfLe1POmyA"
      },
      "outputs": [],
      "source": [
        "x_train,x_test,y_train,y_test = train_test_split(x1,y,test_size=0.3, random_state=1)"
      ]
    },
    {
      "cell_type": "code",
      "source": [
        "scaler=StandardScaler()\n",
        "\n",
        "x_train1 = scaler.fit_transform(x_train)\n",
        "x_test1 = scaler.transform(x_test)"
      ],
      "metadata": {
        "id": "ekzqI4XWuNlK"
      },
      "execution_count": null,
      "outputs": []
    },
    {
      "cell_type": "code",
      "execution_count": null,
      "metadata": {
        "id": "EWoekFD_WJFF"
      },
      "outputs": [],
      "source": [
        "linreg = lin.fit(x_train1, y_train)"
      ]
    },
    {
      "cell_type": "code",
      "execution_count": null,
      "metadata": {
        "id": "Ee3sfin6NSFR",
        "colab": {
          "base_uri": "https://localhost:8080/"
        },
        "outputId": "a1ce72bc-142c-40aa-bf43-b90cfe004685"
      },
      "outputs": [
        {
          "output_type": "stream",
          "name": "stdout",
          "text": [
            "Regresion Model Score : 0.8632730979707379 , Out of Sample Test Score : 0.8620825434853236\n",
            "Training RMSE : 6.460913572181647 Testing RMSE : 6.474678884573082\n",
            "Training MAPE : 6.2395040946099485 Testing MAPE : 6.264130235846424\n"
          ]
        }
      ],
      "source": [
        "# definte RMSE function\n",
        "from sklearn.metrics import mean_squared_error\n",
        "from math import sqrt\n",
        "\n",
        "def rmse(x, y):\n",
        "    return sqrt(mean_squared_error(x, y))\n",
        "\n",
        "# definte MAPE function\n",
        "def mape(x, y): \n",
        "    return np.mean(np.abs((x - y) / x)) * 100  \n",
        "  \n",
        "# get cross validation scores \n",
        "y_predicted = linreg.predict(x_train1)\n",
        "y_test_predicted = linreg.predict(x_test1)\n",
        "\n",
        "print(\"Regresion Model Score\" , \":\" , linreg.score(x_train1, y_train) , \",\" ,\n",
        "      \"Out of Sample Test Score\" ,\":\" , linreg.score(x_test1, y_test))\n",
        "print(\"Training RMSE\", \":\", rmse(y_train, y_predicted),\n",
        "      \"Testing RMSE\", \":\", rmse(y_test, y_test_predicted))\n",
        "print(\"Training MAPE\", \":\", mape(y_train, y_predicted),\n",
        "      \"Testing MAPE\", \":\", mape(y_test, y_test_predicted))"
      ]
    },
    {
      "cell_type": "markdown",
      "source": [
        "**Lasso**"
      ],
      "metadata": {
        "id": "FPn8VSbjY5ZE"
      }
    },
    {
      "cell_type": "code",
      "execution_count": null,
      "metadata": {
        "id": "soFm5cD7NR6p",
        "colab": {
          "base_uri": "https://localhost:8080/"
        },
        "outputId": "c67a4cc7-8fc4-490d-9cf2-534f33ec6bec"
      },
      "outputs": [
        {
          "output_type": "stream",
          "name": "stdout",
          "text": [
            "Regresion Model Score : 0.8330340494151067 , Out of Sample Test Score : 0.8322935097293892\n",
            "Training RMSE : 6.460913572181647 Testing RMSE : 6.474678884573082\n",
            "Training MAPE : 6.2395040946099485 Testing MAPE : 6.264130235846424\n"
          ]
        }
      ],
      "source": [
        "from sklearn.linear_model import LassoLars\n",
        "las = LassoLars(alpha=0.3, fit_intercept=False, normalize=True)\n",
        "lasreg = las.fit(x_train, y_train)\n",
        "print(\"Regresion Model Score\" , \":\" , lasreg.score(x_train, y_train) , \",\" ,\n",
        "      \"Out of Sample Test Score\" ,\":\" , lasreg.score(x_test, y_test))\n",
        "\n",
        "yd_predicted = lasreg.predict(x_train1)\n",
        "yd_test_predicted = lasreg.predict(x_test1)\n",
        "\n",
        "print(\"Training RMSE\", \":\", rmse(y_train, y_predicted),\n",
        "      \"Testing RMSE\", \":\", rmse(y_test, y_test_predicted))\n",
        "print(\"Training MAPE\", \":\", mape(y_train, y_predicted),\n",
        "      \"Testing MAPE\", \":\", mape(y_test, y_test_predicted))"
      ]
    },
    {
      "cell_type": "markdown",
      "source": [
        "**Ridge**"
      ],
      "metadata": {
        "id": "xsdszFh7ZDAm"
      }
    },
    {
      "cell_type": "code",
      "execution_count": null,
      "metadata": {
        "id": "3AJUT_whDAZL",
        "colab": {
          "base_uri": "https://localhost:8080/"
        },
        "outputId": "b8f5e75d-0e2e-49d6-ba2c-b096e8c7a459"
      },
      "outputs": [
        {
          "output_type": "stream",
          "name": "stdout",
          "text": [
            "Regresion Model Score : 0.8632790800960524 , Out of Sample Test Score : 0.8620839324953599\n",
            "Training RMSE : 6.460913572181647 Testing RMSE : 6.474678884573082\n",
            "Training MAPE : 6.2395040946099485 Testing MAPE : 6.264130235846424\n"
          ]
        }
      ],
      "source": [
        "from sklearn.linear_model import BayesianRidge\n",
        "rdg = BayesianRidge()\n",
        "rdgreg = rdg.fit(x_train1, y_train)\n",
        "# validation\n",
        "print(\"Regresion Model Score\" , \":\" , rdgreg.score(x_train1, y_train) , \",\" ,\n",
        "      \"Out of Sample Test Score\" ,\":\" , rdgreg.score(x_test1, y_test))\n",
        "\n",
        "yd_predicted = rdgreg.predict(x_train1)\n",
        "yd_test_predicted = rdgreg.predict(x_test1)\n",
        "\n",
        "print(\"Training RMSE\", \":\", rmse(y_train, y_predicted),\n",
        "      \"Testing RMSE\", \":\", rmse(y_test, y_test_predicted))\n",
        "print(\"Training MAPE\", \":\", mape(y_train, y_predicted),\n",
        "      \"Testing MAPE\", \":\", mape(y_test, y_test_predicted))"
      ]
    },
    {
      "cell_type": "markdown",
      "source": [
        "**Decision Tree**"
      ],
      "metadata": {
        "id": "iyU12A8LZRZ_"
      }
    },
    {
      "cell_type": "code",
      "execution_count": null,
      "metadata": {
        "id": "Hz_QIReaDANp",
        "colab": {
          "base_uri": "https://localhost:8080/"
        },
        "outputId": "6452e29b-caa3-45c1-ec27-c75836cf6eac"
      },
      "outputs": [
        {
          "output_type": "stream",
          "name": "stdout",
          "text": [
            "Regresion Model Score : 0.9637035071087259 , Out of Sample Test Score : 0.9550024020303911\n",
            "Training RMSE : 6.460913572181647 Testing RMSE : 6.474678884573082\n",
            "Training MAPE : 6.2395040946099485 Testing MAPE : 6.264130235846424\n"
          ]
        }
      ],
      "source": [
        "from sklearn.tree import DecisionTreeRegressor\n",
        "tree = DecisionTreeRegressor(min_samples_leaf=20)\n",
        "treereg = tree.fit(x_train1, y_train)\n",
        "print(\"Regresion Model Score\" , \":\" , treereg.score(x_train1, y_train) , \",\" ,\n",
        "      \"Out of Sample Test Score\" ,\":\" , treereg.score(x_test1, y_test))\n",
        "\n",
        "yl_predicted = treereg.predict(x_train1)\n",
        "yl_test_predicted = treereg.predict(x_test1)\n",
        "print(\"Training RMSE\", \":\", rmse(y_train, y_predicted),\n",
        "      \"Testing RMSE\", \":\", rmse(y_test, y_test_predicted))\n",
        "print(\"Training MAPE\", \":\", mape(y_train, y_predicted),\n",
        "      \"Testing MAPE\", \":\", mape(y_test, y_test_predicted))"
      ]
    },
    {
      "cell_type": "markdown",
      "source": [
        "**Random Forest**"
      ],
      "metadata": {
        "id": "obsRkonyZfRy"
      }
    },
    {
      "cell_type": "code",
      "execution_count": null,
      "metadata": {
        "id": "IyUOS-GBqrXW",
        "colab": {
          "base_uri": "https://localhost:8080/"
        },
        "outputId": "c48ebe92-6c17-4dda-8015-02aadb402aa5"
      },
      "outputs": [
        {
          "output_type": "stream",
          "name": "stdout",
          "text": [
            "Regresion Model Score : 0.9954791430965407 , Out of Sample Test Score : 0.9722278644850099\n",
            "Training RMSE : 1.1748362139991144 Testing RMSE : 2.9054489723801296\n",
            "Training MAPE : 1.0342530788303632 Testing MAPE : 2.6323419072345455\n"
          ]
        }
      ],
      "source": [
        "from sklearn.ensemble import RandomForestRegressor\n",
        "rdf = RandomForestRegressor(n_estimators=30)\n",
        "rdfreg = rdf.fit(x_train1, y_train)\n",
        "print(\"Regresion Model Score\" , \":\" , rdfreg.score(x_train1, y_train) , \",\" ,\n",
        "      \"Out of Sample Test Score\" ,\":\" , rdfreg.score(x_test1, y_test))   \n",
        "\n",
        "y_predicted = rdfreg.predict(x_train1)\n",
        "y_test_predicted = rdfreg.predict(x_test1)\n",
        "\n",
        "print(\"Training RMSE\", \":\", rmse(y_train, y_predicted),\n",
        "      \"Testing RMSE\", \":\", rmse(y_test, y_test_predicted))\n",
        "print(\"Training MAPE\", \":\", mape(y_train, y_predicted),\n",
        "      \"Testing MAPE\", \":\", mape(y_test, y_test_predicted))"
      ]
    },
    {
      "cell_type": "code",
      "execution_count": null,
      "metadata": {
        "id": "kEXDhdJjbxtm",
        "colab": {
          "base_uri": "https://localhost:8080/",
          "height": 644
        },
        "outputId": "fb03c413-d3f7-4dd9-ec11-7e4d792639a2"
      },
      "outputs": [
        {
          "output_type": "execute_result",
          "data": {
            "text/plain": [
              "Text(0.5, 0, 'Relative Importance')"
            ]
          },
          "metadata": {},
          "execution_count": 108
        },
        {
          "output_type": "display_data",
          "data": {
            "text/plain": [
              "<Figure size 576x720 with 1 Axes>"
            ],
            "image/png": "[encoded data removed]"
          },
          "metadata": {
            "needs_background": "light"
          }
        }
      ],
      "source": [
        "features = x_train.columns\n",
        "importances = rdfreg.feature_importances_\n",
        "indices = np.argsort(importances)\n",
        "plt.figure(figsize=(8,10))\n",
        "plt.title('Feature Importances', fontsize=20)\n",
        "plt.barh(range(len(indices)), importances[indices], color='pink', align='center')\n",
        "plt.yticks(range(len(indices)), features[indices])\n",
        "plt.xlabel('Relative Importance')"
      ]
    },
    {
      "cell_type": "code",
      "execution_count": null,
      "metadata": {
        "id": "XB0PsOopbxnz"
      },
      "outputs": [],
      "source": []
    },
    {
      "cell_type": "code",
      "execution_count": null,
      "metadata": {
        "id": "8BMZ2qBabxjZ"
      },
      "outputs": [],
      "source": []
    },
    {
      "cell_type": "code",
      "execution_count": null,
      "metadata": {
        "id": "XLEPh1ji9kqr"
      },
      "outputs": [],
      "source": []
    }
  ],
  "metadata": {
    "colab": {
      "provenance": [],
      "include_colab_link": true
    },
    "kernelspec": {
      "display_name": "Python 3",
      "language": "python",
      "name": "python3"
    },
    "language_info": {
      "codemirror_mode": {
        "name": "ipython",
        "version": 3
      },
      "file_extension": ".py",
      "mimetype": "text/x-python",
      "name": "python",
      "nbconvert_exporter": "python",
      "pygments_lexer": "ipython3",
      "version": "3.6.6"
    }
  },
  "nbformat": 4,
  "nbformat_minor": 0
}